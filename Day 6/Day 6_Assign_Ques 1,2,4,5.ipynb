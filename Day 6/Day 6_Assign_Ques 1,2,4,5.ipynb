{
 "cells": [
  {
   "cell_type": "markdown",
   "metadata": {},
   "source": [
    "# Question 1:\n",
    "## Assuming that we have some email addresses in the \"username@companyname.com\" format, please write program to print the company name of a given email address. Both user names and company names are composed of letters only.\n",
    "### Input Format:\n",
    "### The first line of the input contains an email address.\n",
    "### Output Format:\n",
    "### Print the company name in single line.\n",
    "### Example;\n",
    "### Input:\n",
    "### john@google.com\n",
    "### Output:\n",
    "### google"
   ]
  },
  {
   "cell_type": "code",
   "execution_count": 16,
   "metadata": {},
   "outputs": [
    {
     "name": "stdout",
     "output_type": "stream",
     "text": [
      "Enter Email ID: letsupgrade@itm.edu\n",
      "itm\n"
     ]
    }
   ],
   "source": [
    "import re\n",
    "email = input(\"Enter Email ID: \")\n",
    "company_name = re.findall(\"[\\w\\.-]+@([\\w]*)\\.+\", email)\n",
    "print(*company_name)"
   ]
  },
  {
   "cell_type": "markdown",
   "metadata": {},
   "source": [
    "# Question 2:\n",
    "## Write a program that accepts a comma-separated sequence of words as input and prints the words in a comma separated sequence after sorting them alphabetically.\n",
    "### Input Format:\n",
    "### The first line of input contains words separated by the comma.\n",
    "### Output Format:\n",
    "### Print the sorted words separated by the comma.\n",
    "### Example:\n",
    "### Input:\n",
    "### without,hello,bag,world\n",
    "### Output:\n",
    "### bag,hello,without,world"
   ]
  },
  {
   "cell_type": "code",
   "execution_count": 23,
   "metadata": {},
   "outputs": [
    {
     "name": "stdout",
     "output_type": "stream",
     "text": [
      "Enter words: without,hello,bag,world\n",
      "bag,hello,without,world\n"
     ]
    }
   ],
   "source": [
    "words = input(\"Enter words: \").strip().split(',')\n",
    "print(','.join(sorted(words)))"
   ]
  },
  {
   "cell_type": "markdown",
   "metadata": {},
   "source": [
    "# For Question 3 refer another Notebook in same folder"
   ]
  },
  {
   "cell_type": "markdown",
   "metadata": {},
   "source": [
    "# Question 4\n",
    "## Given a list of n-1 numbers ranging from 1 to n, your task is to find the missing number. There are no duplicates.\n",
    "\n",
    "### Input Format:\n",
    "### The first line contains n-1 numbers with each number separated by a space.\n",
    "### Output Format:\n",
    "### Print the missing number\n",
    "### Example:\n",
    "### Input:1 2 4 6 3 7 8\n",
    "### Output:5"
   ]
  },
  {
   "cell_type": "code",
   "execution_count": 41,
   "metadata": {},
   "outputs": [
    {
     "name": "stdout",
     "output_type": "stream",
     "text": [
      "Enter Numbers: 3 1 5 4 7 8 6 9 10\n",
      "Missing Number= 2\n"
     ]
    }
   ],
   "source": [
    "nums = list(map(int, input(\"Enter Numbers: \").strip().split()))\n",
    "\n",
    "print(\"Missing Number=\", *[i for i in range(1, len(nums)+1) if i not in nums])"
   ]
  },
  {
   "cell_type": "markdown",
   "metadata": {},
   "source": [
    "# Question 5:\n",
    "## With a given list L, write a program to print this list L after removing all duplicate values with original order reserved.\n",
    "### Example:\n",
    "### If the input list is\n",
    "### 12 24 35 24 88 120 155 88 120 155\n",
    "### Then the output should be\n",
    "### 12 24 35 88 120 155"
   ]
  },
  {
   "cell_type": "code",
   "execution_count": 43,
   "metadata": {},
   "outputs": [
    {
     "name": "stdout",
     "output_type": "stream",
     "text": [
      "161 182 161 154 176 170 167 171 170 174\n",
      "161 167 170 171 174 176 182 154\n"
     ]
    }
   ],
   "source": [
    "l = list(map(int, input().strip().split()))\n",
    "st = print(*set(l))"
   ]
  }
 ],
 "metadata": {
  "kernelspec": {
   "display_name": "Python 3",
   "language": "python",
   "name": "python3"
  },
  "language_info": {
   "codemirror_mode": {
    "name": "ipython",
    "version": 3
   },
   "file_extension": ".py",
   "mimetype": "text/x-python",
   "name": "python",
   "nbconvert_exporter": "python",
   "pygments_lexer": "ipython3",
   "version": "3.7.6"
  }
 },
 "nbformat": 4,
 "nbformat_minor": 4
}
