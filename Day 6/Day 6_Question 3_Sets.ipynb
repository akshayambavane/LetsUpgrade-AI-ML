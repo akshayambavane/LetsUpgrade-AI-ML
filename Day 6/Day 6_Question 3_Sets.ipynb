{
 "cells": [
  {
   "cell_type": "markdown",
   "metadata": {},
   "source": [
    "# Question 3:\n",
    "## Create your own Jupyter Notebook for Sets.\n",
    "## Reference link: https://www.w3schools.com/python/python_sets.asp"
   ]
  },
  {
   "cell_type": "code",
   "execution_count": 10,
   "metadata": {},
   "outputs": [
    {
     "name": "stdout",
     "output_type": "stream",
     "text": [
      "False\n",
      "{'Samsung', 'LAVA', 'Apple', 'Nokia'}\n",
      "{'Apple', 'Nokia', 'One plus', 'Samsung', 'LAVA', 'Vivo', 'Oppo'}\n",
      "{'Apple', 'Nokia', 'One plus', 'Samsung', 'LAVA', 'Oppo'}\n",
      "{'Apple', 'Nokia', 'One plus', 'Samsung', 'LAVA', 'Oppo'}\n",
      "{'Nokia', 'One plus', 'Samsung', 'LAVA', 'Oppo'}\n",
      "set()\n"
     ]
    }
   ],
   "source": [
    "st = {'LAVA', 'Apple', 'Samsung'}\n",
    "\n",
    "print(\"Redmi\" in st) # False\n",
    "\n",
    "st.add('Nokia')\n",
    "print(st)\n",
    "\n",
    "st.update(['One plus', 'Oppo', 'Vivo'])\n",
    "print(st)\n",
    "\n",
    "st.remove('Vivo') # If the item to remove does not exist, remove() will raise an error.\n",
    "print(st)\n",
    "\n",
    "st.discard('Redmi') # If the item to remove does not exist, remove() will not raise an error.\n",
    "print(st)\n",
    "\n",
    "st.pop() # Sets are unordered, so when using the pop() method, you will not know which item that gets removed.\n",
    "print(st)\n",
    "\n",
    "st.clear() # clears values from set but empty set will be available\n",
    "print(st) # set()\n",
    "\n",
    "del st # clears variable of set\n",
    "# print(st) # gives error"
   ]
  },
  {
   "cell_type": "code",
   "execution_count": 13,
   "metadata": {},
   "outputs": [
    {
     "name": "stdout",
     "output_type": "stream",
     "text": [
      "{1, 2, 'b', 'a', 3, 'c'}\n"
     ]
    }
   ],
   "source": [
    "set1 = {\"a\", \"b\" , \"c\"}\n",
    "set2 = {1, 2, 3}\n",
    "\n",
    "set3 = set1.union(set2) # concat with unordered \n",
    "print(set3)\n",
    "\n",
    "set4 = {5, 3, 6} \n",
    "set5 = set3.update(set4) # 3 will not add as all should be unique\n"
   ]
  },
  {
   "cell_type": "code",
   "execution_count": 27,
   "metadata": {},
   "outputs": [
    {
     "name": "stdout",
     "output_type": "stream",
     "text": [
      "{'banana', 'cherry'}\n",
      "{'banana', 'cherry'}\n",
      "{'microsoft', 'apple', 'google'}\n",
      "{'apple'}\n",
      "{'apple'}\n",
      "{'microsoft', 'apple', 'google'}\n"
     ]
    }
   ],
   "source": [
    "# Difference & Intersection\n",
    "\n",
    "x = {\"apple\", \"banana\", \"cherry\"}\n",
    "y = {\"google\", \"microsoft\", \"apple\"}\n",
    "\n",
    "z = x.difference(y) # difference\n",
    "print(z)\n",
    "\n",
    "x.difference_update(y) # Remove the items that exist in both sets from y\n",
    "print(x)\n",
    "print(y)\n",
    "\n",
    "x = {\"apple\", \"banana\", \"cherry\"}\n",
    "y = {\"google\", \"microsoft\", \"apple\"}\n",
    "\n",
    "print(x.intersection(y)) # common\n",
    "\n",
    "x.intersection_update(y) # Remove the items that is not present in both x, and set y from x\n",
    "print(x)\n",
    "print(y)"
   ]
  },
  {
   "cell_type": "code",
   "execution_count": 19,
   "metadata": {},
   "outputs": [
    {
     "name": "stdout",
     "output_type": "stream",
     "text": [
      "True\n",
      "False\n"
     ]
    }
   ],
   "source": [
    "# Subset & Superset\n",
    "x = {\"a\", \"b\", \"c\"}\n",
    "y = {\"f\", \"e\", \"d\", \"c\", \"b\", \"a\"}\n",
    "\n",
    "print(x.issubset(y)) # Return True if all items set x are present in set y\n",
    "print(x.issuperset(y)) # Return True if all items set y are present in set x\n",
    "\n"
   ]
  },
  {
   "cell_type": "code",
   "execution_count": 37,
   "metadata": {},
   "outputs": [
    {
     "name": "stdout",
     "output_type": "stream",
     "text": [
      "{'banana', 'apple', 'cherry'}\n",
      "{'microsoft', 'banana', 'cherry', 'google'}\n"
     ]
    }
   ],
   "source": [
    "# Symmetric_difference\n",
    "\n",
    "x = {\"apple\", \"banana\", \"cherry\"}\n",
    "y = {\"google\", \"microsoft\", \"apple\"}\n",
    "\n",
    "z = x.symmetric_difference(y) # Return a set that contains all items from both sets, except items that are present in both sets\n",
    "print(x)\n",
    "\n",
    "x = {\"apple\", \"banana\", \"cherry\"}\n",
    "y = {\"google\", \"microsoft\", \"apple\"}\n",
    "\n",
    "a = x.symmetric_difference_update(y)# Remove the items that are present in both sets, AND insert the items that is not present in both sets\n",
    "print(x)"
   ]
  }
 ],
 "metadata": {
  "kernelspec": {
   "display_name": "Python 3",
   "language": "python",
   "name": "python3"
  },
  "language_info": {
   "codemirror_mode": {
    "name": "ipython",
    "version": 3
   },
   "file_extension": ".py",
   "mimetype": "text/x-python",
   "name": "python",
   "nbconvert_exporter": "python",
   "pygments_lexer": "ipython3",
   "version": "3.7.6"
  }
 },
 "nbformat": 4,
 "nbformat_minor": 4
}
