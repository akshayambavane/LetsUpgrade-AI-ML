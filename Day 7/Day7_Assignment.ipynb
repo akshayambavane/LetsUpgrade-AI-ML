{
 "cells": [
  {
   "cell_type": "markdown",
   "metadata": {},
   "source": [
    "# HR Analytics\n",
    "## Problem Statement\n",
    "A large company named XYZ, employs, at any given point of time, around 4000 employees. However, every year, around 15% of its employees leave the company and need to be replaced with the talent pool available in the job market. The management believes that this level of attrition (employees leaving, either on their own or because they got fired) is bad for the company, because of the following reasons -\n",
    "\n",
    "The former employees’ projects get delayed, which makes it difficult to meet timelines, resulting in a reputation loss among consumers and partners\n",
    "A sizeable department has to be maintained, for the purposes of recruiting new talent\n",
    "More often than not, the new employees have to be trained for the job and/or given time to acclimatise themselves to the company\n",
    "Hence, the management has contracted an HR analytics firm to understand what factors they should focus on, in order to curb attrition. In other words, they want to know what changes they should make to their workplace, in order to get most of their employees to stay. Also, they want to know which of these variables is most important and needs to be addressed right away.\n",
    "\n",
    "Since you are one of the star analysts at the firm, this project has been given to you.\n",
    "\n",
    "Goal of the case study You are required to model the probability of attrition. The results thus obtained will be used by the management to understand what changes they should make to their workplace, in order to get most of their employees to stay."
   ]
  },
  {
   "cell_type": "code",
   "execution_count": 1,
   "metadata": {},
   "outputs": [],
   "source": [
    "import pandas as pd\n",
    "import numpy as np\n",
    "import matplotlib.pyplot as plt\n",
    "import seaborn as sns"
   ]
  },
  {
   "cell_type": "code",
   "execution_count": 2,
   "metadata": {},
   "outputs": [
    {
     "data": {
      "text/html": [
       "<div>\n",
       "<style scoped>\n",
       "    .dataframe tbody tr th:only-of-type {\n",
       "        vertical-align: middle;\n",
       "    }\n",
       "\n",
       "    .dataframe tbody tr th {\n",
       "        vertical-align: top;\n",
       "    }\n",
       "\n",
       "    .dataframe thead th {\n",
       "        text-align: right;\n",
       "    }\n",
       "</style>\n",
       "<table border=\"1\" class=\"dataframe\">\n",
       "  <thead>\n",
       "    <tr style=\"text-align: right;\">\n",
       "      <th></th>\n",
       "      <th>Age</th>\n",
       "      <th>Attrition</th>\n",
       "      <th>BusinessTravel</th>\n",
       "      <th>Department</th>\n",
       "      <th>DistanceFromHome</th>\n",
       "      <th>Education</th>\n",
       "      <th>EducationField</th>\n",
       "      <th>EmployeeCount</th>\n",
       "      <th>EmployeeID</th>\n",
       "      <th>Gender</th>\n",
       "      <th>...</th>\n",
       "      <th>NumCompaniesWorked</th>\n",
       "      <th>Over18</th>\n",
       "      <th>PercentSalaryHike</th>\n",
       "      <th>StandardHours</th>\n",
       "      <th>StockOptionLevel</th>\n",
       "      <th>TotalWorkingYears</th>\n",
       "      <th>TrainingTimesLastYear</th>\n",
       "      <th>YearsAtCompany</th>\n",
       "      <th>YearsSinceLastPromotion</th>\n",
       "      <th>YearsWithCurrManager</th>\n",
       "    </tr>\n",
       "  </thead>\n",
       "  <tbody>\n",
       "    <tr>\n",
       "      <th>0</th>\n",
       "      <td>51</td>\n",
       "      <td>No</td>\n",
       "      <td>Travel_Rarely</td>\n",
       "      <td>Sales</td>\n",
       "      <td>6</td>\n",
       "      <td>2</td>\n",
       "      <td>Life Sciences</td>\n",
       "      <td>1</td>\n",
       "      <td>1</td>\n",
       "      <td>Female</td>\n",
       "      <td>...</td>\n",
       "      <td>1.0</td>\n",
       "      <td>Y</td>\n",
       "      <td>11</td>\n",
       "      <td>8</td>\n",
       "      <td>0</td>\n",
       "      <td>1.0</td>\n",
       "      <td>6</td>\n",
       "      <td>1</td>\n",
       "      <td>0</td>\n",
       "      <td>0</td>\n",
       "    </tr>\n",
       "    <tr>\n",
       "      <th>1</th>\n",
       "      <td>31</td>\n",
       "      <td>Yes</td>\n",
       "      <td>Travel_Frequently</td>\n",
       "      <td>Research &amp; Development</td>\n",
       "      <td>10</td>\n",
       "      <td>1</td>\n",
       "      <td>Life Sciences</td>\n",
       "      <td>1</td>\n",
       "      <td>2</td>\n",
       "      <td>Female</td>\n",
       "      <td>...</td>\n",
       "      <td>0.0</td>\n",
       "      <td>Y</td>\n",
       "      <td>23</td>\n",
       "      <td>8</td>\n",
       "      <td>1</td>\n",
       "      <td>6.0</td>\n",
       "      <td>3</td>\n",
       "      <td>5</td>\n",
       "      <td>1</td>\n",
       "      <td>4</td>\n",
       "    </tr>\n",
       "    <tr>\n",
       "      <th>2</th>\n",
       "      <td>32</td>\n",
       "      <td>No</td>\n",
       "      <td>Travel_Frequently</td>\n",
       "      <td>Research &amp; Development</td>\n",
       "      <td>17</td>\n",
       "      <td>4</td>\n",
       "      <td>Other</td>\n",
       "      <td>1</td>\n",
       "      <td>3</td>\n",
       "      <td>Male</td>\n",
       "      <td>...</td>\n",
       "      <td>1.0</td>\n",
       "      <td>Y</td>\n",
       "      <td>15</td>\n",
       "      <td>8</td>\n",
       "      <td>3</td>\n",
       "      <td>5.0</td>\n",
       "      <td>2</td>\n",
       "      <td>5</td>\n",
       "      <td>0</td>\n",
       "      <td>3</td>\n",
       "    </tr>\n",
       "    <tr>\n",
       "      <th>3</th>\n",
       "      <td>38</td>\n",
       "      <td>No</td>\n",
       "      <td>Non-Travel</td>\n",
       "      <td>Research &amp; Development</td>\n",
       "      <td>2</td>\n",
       "      <td>5</td>\n",
       "      <td>Life Sciences</td>\n",
       "      <td>1</td>\n",
       "      <td>4</td>\n",
       "      <td>Male</td>\n",
       "      <td>...</td>\n",
       "      <td>3.0</td>\n",
       "      <td>Y</td>\n",
       "      <td>11</td>\n",
       "      <td>8</td>\n",
       "      <td>3</td>\n",
       "      <td>13.0</td>\n",
       "      <td>5</td>\n",
       "      <td>8</td>\n",
       "      <td>7</td>\n",
       "      <td>5</td>\n",
       "    </tr>\n",
       "    <tr>\n",
       "      <th>4</th>\n",
       "      <td>32</td>\n",
       "      <td>No</td>\n",
       "      <td>Travel_Rarely</td>\n",
       "      <td>Research &amp; Development</td>\n",
       "      <td>10</td>\n",
       "      <td>1</td>\n",
       "      <td>Medical</td>\n",
       "      <td>1</td>\n",
       "      <td>5</td>\n",
       "      <td>Male</td>\n",
       "      <td>...</td>\n",
       "      <td>4.0</td>\n",
       "      <td>Y</td>\n",
       "      <td>12</td>\n",
       "      <td>8</td>\n",
       "      <td>2</td>\n",
       "      <td>9.0</td>\n",
       "      <td>2</td>\n",
       "      <td>6</td>\n",
       "      <td>0</td>\n",
       "      <td>4</td>\n",
       "    </tr>\n",
       "  </tbody>\n",
       "</table>\n",
       "<p>5 rows × 24 columns</p>\n",
       "</div>"
      ],
      "text/plain": [
       "   Age Attrition     BusinessTravel              Department  DistanceFromHome  \\\n",
       "0   51        No      Travel_Rarely                   Sales                 6   \n",
       "1   31       Yes  Travel_Frequently  Research & Development                10   \n",
       "2   32        No  Travel_Frequently  Research & Development                17   \n",
       "3   38        No         Non-Travel  Research & Development                 2   \n",
       "4   32        No      Travel_Rarely  Research & Development                10   \n",
       "\n",
       "   Education EducationField  EmployeeCount  EmployeeID  Gender  ...  \\\n",
       "0          2  Life Sciences              1           1  Female  ...   \n",
       "1          1  Life Sciences              1           2  Female  ...   \n",
       "2          4          Other              1           3    Male  ...   \n",
       "3          5  Life Sciences              1           4    Male  ...   \n",
       "4          1        Medical              1           5    Male  ...   \n",
       "\n",
       "   NumCompaniesWorked Over18 PercentSalaryHike  StandardHours  \\\n",
       "0                 1.0      Y                11              8   \n",
       "1                 0.0      Y                23              8   \n",
       "2                 1.0      Y                15              8   \n",
       "3                 3.0      Y                11              8   \n",
       "4                 4.0      Y                12              8   \n",
       "\n",
       "   StockOptionLevel TotalWorkingYears  TrainingTimesLastYear  YearsAtCompany  \\\n",
       "0                 0               1.0                      6               1   \n",
       "1                 1               6.0                      3               5   \n",
       "2                 3               5.0                      2               5   \n",
       "3                 3              13.0                      5               8   \n",
       "4                 2               9.0                      2               6   \n",
       "\n",
       "   YearsSinceLastPromotion  YearsWithCurrManager  \n",
       "0                        0                     0  \n",
       "1                        1                     4  \n",
       "2                        0                     3  \n",
       "3                        7                     5  \n",
       "4                        0                     4  \n",
       "\n",
       "[5 rows x 24 columns]"
      ]
     },
     "execution_count": 2,
     "metadata": {},
     "output_type": "execute_result"
    }
   ],
   "source": [
    "# Load Dataset\n",
    "\n",
    "df = pd.read_csv('dataset_ass7.csv')\n",
    "df.head()"
   ]
  },
  {
   "cell_type": "code",
   "execution_count": 3,
   "metadata": {},
   "outputs": [
    {
     "data": {
      "text/plain": [
       "Index(['Age', 'Attrition', 'BusinessTravel', 'Department', 'DistanceFromHome',\n",
       "       'Education', 'EducationField', 'EmployeeCount', 'EmployeeID', 'Gender',\n",
       "       'JobLevel', 'JobRole', 'MaritalStatus', 'MonthlyIncome',\n",
       "       'NumCompaniesWorked', 'Over18', 'PercentSalaryHike', 'StandardHours',\n",
       "       'StockOptionLevel', 'TotalWorkingYears', 'TrainingTimesLastYear',\n",
       "       'YearsAtCompany', 'YearsSinceLastPromotion', 'YearsWithCurrManager'],\n",
       "      dtype='object')"
      ]
     },
     "execution_count": 3,
     "metadata": {},
     "output_type": "execute_result"
    }
   ],
   "source": [
    "df.columns"
   ]
  },
  {
   "cell_type": "code",
   "execution_count": 4,
   "metadata": {},
   "outputs": [
    {
     "name": "stdout",
     "output_type": "stream",
     "text": [
      "<class 'pandas.core.frame.DataFrame'>\n",
      "RangeIndex: 4410 entries, 0 to 4409\n",
      "Data columns (total 24 columns):\n",
      " #   Column                   Non-Null Count  Dtype  \n",
      "---  ------                   --------------  -----  \n",
      " 0   Age                      4410 non-null   int64  \n",
      " 1   Attrition                4410 non-null   object \n",
      " 2   BusinessTravel           4410 non-null   object \n",
      " 3   Department               4410 non-null   object \n",
      " 4   DistanceFromHome         4410 non-null   int64  \n",
      " 5   Education                4410 non-null   int64  \n",
      " 6   EducationField           4410 non-null   object \n",
      " 7   EmployeeCount            4410 non-null   int64  \n",
      " 8   EmployeeID               4410 non-null   int64  \n",
      " 9   Gender                   4410 non-null   object \n",
      " 10  JobLevel                 4410 non-null   int64  \n",
      " 11  JobRole                  4410 non-null   object \n",
      " 12  MaritalStatus            4410 non-null   object \n",
      " 13  MonthlyIncome            4410 non-null   int64  \n",
      " 14  NumCompaniesWorked       4391 non-null   float64\n",
      " 15  Over18                   4410 non-null   object \n",
      " 16  PercentSalaryHike        4410 non-null   int64  \n",
      " 17  StandardHours            4410 non-null   int64  \n",
      " 18  StockOptionLevel         4410 non-null   int64  \n",
      " 19  TotalWorkingYears        4401 non-null   float64\n",
      " 20  TrainingTimesLastYear    4410 non-null   int64  \n",
      " 21  YearsAtCompany           4410 non-null   int64  \n",
      " 22  YearsSinceLastPromotion  4410 non-null   int64  \n",
      " 23  YearsWithCurrManager     4410 non-null   int64  \n",
      "dtypes: float64(2), int64(14), object(8)\n",
      "memory usage: 827.0+ KB\n"
     ]
    }
   ],
   "source": [
    "df.info()"
   ]
  },
  {
   "cell_type": "code",
   "execution_count": 5,
   "metadata": {},
   "outputs": [
    {
     "data": {
      "text/plain": [
       "Age                        False\n",
       "Attrition                  False\n",
       "BusinessTravel             False\n",
       "Department                 False\n",
       "DistanceFromHome           False\n",
       "Education                  False\n",
       "EducationField             False\n",
       "EmployeeCount              False\n",
       "EmployeeID                 False\n",
       "Gender                     False\n",
       "JobLevel                   False\n",
       "JobRole                    False\n",
       "MaritalStatus              False\n",
       "MonthlyIncome              False\n",
       "NumCompaniesWorked          True\n",
       "Over18                     False\n",
       "PercentSalaryHike          False\n",
       "StandardHours              False\n",
       "StockOptionLevel           False\n",
       "TotalWorkingYears           True\n",
       "TrainingTimesLastYear      False\n",
       "YearsAtCompany             False\n",
       "YearsSinceLastPromotion    False\n",
       "YearsWithCurrManager       False\n",
       "dtype: bool"
      ]
     },
     "execution_count": 5,
     "metadata": {},
     "output_type": "execute_result"
    }
   ],
   "source": [
    "df.isnull().any()"
   ]
  },
  {
   "cell_type": "code",
   "execution_count": 7,
   "metadata": {},
   "outputs": [
    {
     "data": {
      "text/plain": [
       "Age                        False\n",
       "Attrition                  False\n",
       "BusinessTravel             False\n",
       "Department                 False\n",
       "DistanceFromHome           False\n",
       "Education                  False\n",
       "EducationField             False\n",
       "EmployeeCount              False\n",
       "EmployeeID                 False\n",
       "Gender                     False\n",
       "JobLevel                   False\n",
       "JobRole                    False\n",
       "MaritalStatus              False\n",
       "MonthlyIncome              False\n",
       "NumCompaniesWorked         False\n",
       "Over18                     False\n",
       "PercentSalaryHike          False\n",
       "StandardHours              False\n",
       "StockOptionLevel           False\n",
       "TotalWorkingYears          False\n",
       "TrainingTimesLastYear      False\n",
       "YearsAtCompany             False\n",
       "YearsSinceLastPromotion    False\n",
       "YearsWithCurrManager       False\n",
       "dtype: bool"
      ]
     },
     "execution_count": 7,
     "metadata": {},
     "output_type": "execute_result"
    }
   ],
   "source": [
    "df.fillna(0,inplace =True)\n",
    "df.isnull().any() # no null values"
   ]
  },
  {
   "cell_type": "code",
   "execution_count": 8,
   "metadata": {},
   "outputs": [
    {
     "data": {
      "text/html": [
       "<div>\n",
       "<style scoped>\n",
       "    .dataframe tbody tr th:only-of-type {\n",
       "        vertical-align: middle;\n",
       "    }\n",
       "\n",
       "    .dataframe tbody tr th {\n",
       "        vertical-align: top;\n",
       "    }\n",
       "\n",
       "    .dataframe thead th {\n",
       "        text-align: right;\n",
       "    }\n",
       "</style>\n",
       "<table border=\"1\" class=\"dataframe\">\n",
       "  <thead>\n",
       "    <tr style=\"text-align: right;\">\n",
       "      <th></th>\n",
       "      <th>Age</th>\n",
       "      <th>Attrition</th>\n",
       "      <th>BusinessTravel</th>\n",
       "      <th>Department</th>\n",
       "      <th>DistanceFromHome</th>\n",
       "      <th>Education</th>\n",
       "      <th>EducationField</th>\n",
       "      <th>Gender</th>\n",
       "      <th>JobLevel</th>\n",
       "      <th>JobRole</th>\n",
       "      <th>MaritalStatus</th>\n",
       "      <th>MonthlyIncome</th>\n",
       "      <th>NumCompaniesWorked</th>\n",
       "      <th>PercentSalaryHike</th>\n",
       "      <th>StockOptionLevel</th>\n",
       "      <th>TotalWorkingYears</th>\n",
       "      <th>TrainingTimesLastYear</th>\n",
       "      <th>YearsAtCompany</th>\n",
       "      <th>YearsSinceLastPromotion</th>\n",
       "      <th>YearsWithCurrManager</th>\n",
       "    </tr>\n",
       "  </thead>\n",
       "  <tbody>\n",
       "    <tr>\n",
       "      <th>0</th>\n",
       "      <td>51</td>\n",
       "      <td>No</td>\n",
       "      <td>Travel_Rarely</td>\n",
       "      <td>Sales</td>\n",
       "      <td>6</td>\n",
       "      <td>2</td>\n",
       "      <td>Life Sciences</td>\n",
       "      <td>Female</td>\n",
       "      <td>1</td>\n",
       "      <td>Healthcare Representative</td>\n",
       "      <td>Married</td>\n",
       "      <td>131160</td>\n",
       "      <td>1.0</td>\n",
       "      <td>11</td>\n",
       "      <td>0</td>\n",
       "      <td>1.0</td>\n",
       "      <td>6</td>\n",
       "      <td>1</td>\n",
       "      <td>0</td>\n",
       "      <td>0</td>\n",
       "    </tr>\n",
       "    <tr>\n",
       "      <th>1</th>\n",
       "      <td>31</td>\n",
       "      <td>Yes</td>\n",
       "      <td>Travel_Frequently</td>\n",
       "      <td>Research &amp; Development</td>\n",
       "      <td>10</td>\n",
       "      <td>1</td>\n",
       "      <td>Life Sciences</td>\n",
       "      <td>Female</td>\n",
       "      <td>1</td>\n",
       "      <td>Research Scientist</td>\n",
       "      <td>Single</td>\n",
       "      <td>41890</td>\n",
       "      <td>0.0</td>\n",
       "      <td>23</td>\n",
       "      <td>1</td>\n",
       "      <td>6.0</td>\n",
       "      <td>3</td>\n",
       "      <td>5</td>\n",
       "      <td>1</td>\n",
       "      <td>4</td>\n",
       "    </tr>\n",
       "    <tr>\n",
       "      <th>2</th>\n",
       "      <td>32</td>\n",
       "      <td>No</td>\n",
       "      <td>Travel_Frequently</td>\n",
       "      <td>Research &amp; Development</td>\n",
       "      <td>17</td>\n",
       "      <td>4</td>\n",
       "      <td>Other</td>\n",
       "      <td>Male</td>\n",
       "      <td>4</td>\n",
       "      <td>Sales Executive</td>\n",
       "      <td>Married</td>\n",
       "      <td>193280</td>\n",
       "      <td>1.0</td>\n",
       "      <td>15</td>\n",
       "      <td>3</td>\n",
       "      <td>5.0</td>\n",
       "      <td>2</td>\n",
       "      <td>5</td>\n",
       "      <td>0</td>\n",
       "      <td>3</td>\n",
       "    </tr>\n",
       "    <tr>\n",
       "      <th>3</th>\n",
       "      <td>38</td>\n",
       "      <td>No</td>\n",
       "      <td>Non-Travel</td>\n",
       "      <td>Research &amp; Development</td>\n",
       "      <td>2</td>\n",
       "      <td>5</td>\n",
       "      <td>Life Sciences</td>\n",
       "      <td>Male</td>\n",
       "      <td>3</td>\n",
       "      <td>Human Resources</td>\n",
       "      <td>Married</td>\n",
       "      <td>83210</td>\n",
       "      <td>3.0</td>\n",
       "      <td>11</td>\n",
       "      <td>3</td>\n",
       "      <td>13.0</td>\n",
       "      <td>5</td>\n",
       "      <td>8</td>\n",
       "      <td>7</td>\n",
       "      <td>5</td>\n",
       "    </tr>\n",
       "    <tr>\n",
       "      <th>4</th>\n",
       "      <td>32</td>\n",
       "      <td>No</td>\n",
       "      <td>Travel_Rarely</td>\n",
       "      <td>Research &amp; Development</td>\n",
       "      <td>10</td>\n",
       "      <td>1</td>\n",
       "      <td>Medical</td>\n",
       "      <td>Male</td>\n",
       "      <td>1</td>\n",
       "      <td>Sales Executive</td>\n",
       "      <td>Single</td>\n",
       "      <td>23420</td>\n",
       "      <td>4.0</td>\n",
       "      <td>12</td>\n",
       "      <td>2</td>\n",
       "      <td>9.0</td>\n",
       "      <td>2</td>\n",
       "      <td>6</td>\n",
       "      <td>0</td>\n",
       "      <td>4</td>\n",
       "    </tr>\n",
       "  </tbody>\n",
       "</table>\n",
       "</div>"
      ],
      "text/plain": [
       "   Age Attrition     BusinessTravel              Department  DistanceFromHome  \\\n",
       "0   51        No      Travel_Rarely                   Sales                 6   \n",
       "1   31       Yes  Travel_Frequently  Research & Development                10   \n",
       "2   32        No  Travel_Frequently  Research & Development                17   \n",
       "3   38        No         Non-Travel  Research & Development                 2   \n",
       "4   32        No      Travel_Rarely  Research & Development                10   \n",
       "\n",
       "   Education EducationField  Gender  JobLevel                    JobRole  \\\n",
       "0          2  Life Sciences  Female         1  Healthcare Representative   \n",
       "1          1  Life Sciences  Female         1         Research Scientist   \n",
       "2          4          Other    Male         4            Sales Executive   \n",
       "3          5  Life Sciences    Male         3            Human Resources   \n",
       "4          1        Medical    Male         1            Sales Executive   \n",
       "\n",
       "  MaritalStatus  MonthlyIncome  NumCompaniesWorked  PercentSalaryHike  \\\n",
       "0       Married         131160                 1.0                 11   \n",
       "1        Single          41890                 0.0                 23   \n",
       "2       Married         193280                 1.0                 15   \n",
       "3       Married          83210                 3.0                 11   \n",
       "4        Single          23420                 4.0                 12   \n",
       "\n",
       "   StockOptionLevel  TotalWorkingYears  TrainingTimesLastYear  YearsAtCompany  \\\n",
       "0                 0                1.0                      6               1   \n",
       "1                 1                6.0                      3               5   \n",
       "2                 3                5.0                      2               5   \n",
       "3                 3               13.0                      5               8   \n",
       "4                 2                9.0                      2               6   \n",
       "\n",
       "   YearsSinceLastPromotion  YearsWithCurrManager  \n",
       "0                        0                     0  \n",
       "1                        1                     4  \n",
       "2                        0                     3  \n",
       "3                        7                     5  \n",
       "4                        0                     4  "
      ]
     },
     "execution_count": 8,
     "metadata": {},
     "output_type": "execute_result"
    }
   ],
   "source": [
    "df.drop(['EmployeeCount','EmployeeID','StandardHours', 'Over18'],axis=1,inplace=True) # removing useless features\n",
    "df.head() # unnecessary features removed"
   ]
  },
  {
   "cell_type": "markdown",
   "metadata": {},
   "source": [
    "### Univariate Analysis"
   ]
  },
  {
   "cell_type": "code",
   "execution_count": 13,
   "metadata": {
    "scrolled": true
   },
   "outputs": [
    {
     "data": {
      "text/html": [
       "<div>\n",
       "<style scoped>\n",
       "    .dataframe tbody tr th:only-of-type {\n",
       "        vertical-align: middle;\n",
       "    }\n",
       "\n",
       "    .dataframe tbody tr th {\n",
       "        vertical-align: top;\n",
       "    }\n",
       "\n",
       "    .dataframe thead th {\n",
       "        text-align: right;\n",
       "    }\n",
       "</style>\n",
       "<table border=\"1\" class=\"dataframe\">\n",
       "  <thead>\n",
       "    <tr style=\"text-align: right;\">\n",
       "      <th></th>\n",
       "      <th>count</th>\n",
       "      <th>mean</th>\n",
       "      <th>std</th>\n",
       "      <th>min</th>\n",
       "      <th>25%</th>\n",
       "      <th>50%</th>\n",
       "      <th>75%</th>\n",
       "      <th>max</th>\n",
       "    </tr>\n",
       "  </thead>\n",
       "  <tbody>\n",
       "    <tr>\n",
       "      <th>Age</th>\n",
       "      <td>4410.0</td>\n",
       "      <td>36.923810</td>\n",
       "      <td>9.133301</td>\n",
       "      <td>18.0</td>\n",
       "      <td>30.0</td>\n",
       "      <td>36.0</td>\n",
       "      <td>43.0</td>\n",
       "      <td>60.0</td>\n",
       "    </tr>\n",
       "    <tr>\n",
       "      <th>DistanceFromHome</th>\n",
       "      <td>4410.0</td>\n",
       "      <td>9.192517</td>\n",
       "      <td>8.105026</td>\n",
       "      <td>1.0</td>\n",
       "      <td>2.0</td>\n",
       "      <td>7.0</td>\n",
       "      <td>14.0</td>\n",
       "      <td>29.0</td>\n",
       "    </tr>\n",
       "    <tr>\n",
       "      <th>Education</th>\n",
       "      <td>4410.0</td>\n",
       "      <td>2.912925</td>\n",
       "      <td>1.023933</td>\n",
       "      <td>1.0</td>\n",
       "      <td>2.0</td>\n",
       "      <td>3.0</td>\n",
       "      <td>4.0</td>\n",
       "      <td>5.0</td>\n",
       "    </tr>\n",
       "    <tr>\n",
       "      <th>MonthlyIncome</th>\n",
       "      <td>4410.0</td>\n",
       "      <td>65029.312925</td>\n",
       "      <td>47068.888559</td>\n",
       "      <td>10090.0</td>\n",
       "      <td>29110.0</td>\n",
       "      <td>49190.0</td>\n",
       "      <td>83800.0</td>\n",
       "      <td>199990.0</td>\n",
       "    </tr>\n",
       "    <tr>\n",
       "      <th>NumCompaniesWorked</th>\n",
       "      <td>4410.0</td>\n",
       "      <td>2.683220</td>\n",
       "      <td>2.499737</td>\n",
       "      <td>0.0</td>\n",
       "      <td>1.0</td>\n",
       "      <td>2.0</td>\n",
       "      <td>4.0</td>\n",
       "      <td>9.0</td>\n",
       "    </tr>\n",
       "    <tr>\n",
       "      <th>PercentSalaryHike</th>\n",
       "      <td>4410.0</td>\n",
       "      <td>15.209524</td>\n",
       "      <td>3.659108</td>\n",
       "      <td>11.0</td>\n",
       "      <td>12.0</td>\n",
       "      <td>14.0</td>\n",
       "      <td>18.0</td>\n",
       "      <td>25.0</td>\n",
       "    </tr>\n",
       "    <tr>\n",
       "      <th>TotalWorkingYears</th>\n",
       "      <td>4410.0</td>\n",
       "      <td>11.256916</td>\n",
       "      <td>7.790928</td>\n",
       "      <td>0.0</td>\n",
       "      <td>6.0</td>\n",
       "      <td>10.0</td>\n",
       "      <td>15.0</td>\n",
       "      <td>40.0</td>\n",
       "    </tr>\n",
       "    <tr>\n",
       "      <th>TrainingTimesLastYear</th>\n",
       "      <td>4410.0</td>\n",
       "      <td>2.799320</td>\n",
       "      <td>1.288978</td>\n",
       "      <td>0.0</td>\n",
       "      <td>2.0</td>\n",
       "      <td>3.0</td>\n",
       "      <td>3.0</td>\n",
       "      <td>6.0</td>\n",
       "    </tr>\n",
       "    <tr>\n",
       "      <th>YearsAtCompany</th>\n",
       "      <td>4410.0</td>\n",
       "      <td>7.008163</td>\n",
       "      <td>6.125135</td>\n",
       "      <td>0.0</td>\n",
       "      <td>3.0</td>\n",
       "      <td>5.0</td>\n",
       "      <td>9.0</td>\n",
       "      <td>40.0</td>\n",
       "    </tr>\n",
       "    <tr>\n",
       "      <th>YearsSinceLastPromotion</th>\n",
       "      <td>4410.0</td>\n",
       "      <td>2.187755</td>\n",
       "      <td>3.221699</td>\n",
       "      <td>0.0</td>\n",
       "      <td>0.0</td>\n",
       "      <td>1.0</td>\n",
       "      <td>3.0</td>\n",
       "      <td>15.0</td>\n",
       "    </tr>\n",
       "    <tr>\n",
       "      <th>YearsWithCurrManager</th>\n",
       "      <td>4410.0</td>\n",
       "      <td>4.123129</td>\n",
       "      <td>3.567327</td>\n",
       "      <td>0.0</td>\n",
       "      <td>2.0</td>\n",
       "      <td>3.0</td>\n",
       "      <td>7.0</td>\n",
       "      <td>17.0</td>\n",
       "    </tr>\n",
       "  </tbody>\n",
       "</table>\n",
       "</div>"
      ],
      "text/plain": [
       "                          count          mean           std      min      25%  \\\n",
       "Age                      4410.0     36.923810      9.133301     18.0     30.0   \n",
       "DistanceFromHome         4410.0      9.192517      8.105026      1.0      2.0   \n",
       "Education                4410.0      2.912925      1.023933      1.0      2.0   \n",
       "MonthlyIncome            4410.0  65029.312925  47068.888559  10090.0  29110.0   \n",
       "NumCompaniesWorked       4410.0      2.683220      2.499737      0.0      1.0   \n",
       "PercentSalaryHike        4410.0     15.209524      3.659108     11.0     12.0   \n",
       "TotalWorkingYears        4410.0     11.256916      7.790928      0.0      6.0   \n",
       "TrainingTimesLastYear    4410.0      2.799320      1.288978      0.0      2.0   \n",
       "YearsAtCompany           4410.0      7.008163      6.125135      0.0      3.0   \n",
       "YearsSinceLastPromotion  4410.0      2.187755      3.221699      0.0      0.0   \n",
       "YearsWithCurrManager     4410.0      4.123129      3.567327      0.0      2.0   \n",
       "\n",
       "                             50%      75%       max  \n",
       "Age                         36.0     43.0      60.0  \n",
       "DistanceFromHome             7.0     14.0      29.0  \n",
       "Education                    3.0      4.0       5.0  \n",
       "MonthlyIncome            49190.0  83800.0  199990.0  \n",
       "NumCompaniesWorked           2.0      4.0       9.0  \n",
       "PercentSalaryHike           14.0     18.0      25.0  \n",
       "TotalWorkingYears           10.0     15.0      40.0  \n",
       "TrainingTimesLastYear        3.0      3.0       6.0  \n",
       "YearsAtCompany               5.0      9.0      40.0  \n",
       "YearsSinceLastPromotion      1.0      3.0      15.0  \n",
       "YearsWithCurrManager         3.0      7.0      17.0  "
      ]
     },
     "execution_count": 13,
     "metadata": {},
     "output_type": "execute_result"
    }
   ],
   "source": [
    "# get describe of Continuous variables only\n",
    "df[['Age','DistanceFromHome','Education','MonthlyIncome', 'NumCompaniesWorked', 'PercentSalaryHike','TotalWorkingYears', \n",
    "    'TrainingTimesLastYear', 'YearsAtCompany','YearsSinceLastPromotion', 'YearsWithCurrManager']].describe().T"
   ]
  },
  {
   "cell_type": "code",
   "execution_count": 100,
   "metadata": {},
   "outputs": [
    {
     "data": {
      "text/plain": [
       "Age                           36.0\n",
       "DistanceFromHome               7.0\n",
       "Education                      3.0\n",
       "MonthlyIncome              49190.0\n",
       "NumCompaniesWorked             2.0\n",
       "PercentSalaryHike             14.0\n",
       "TotalWorkingYears             10.0\n",
       "TrainingTimesLastYear          3.0\n",
       "YearsAtCompany                 5.0\n",
       "YearsSinceLastPromotion        1.0\n",
       "YearsWithCurrManager           3.0\n",
       "dtype: float64"
      ]
     },
     "execution_count": 100,
     "metadata": {},
     "output_type": "execute_result"
    }
   ],
   "source": [
    "# get median of continuous variables\n",
    "df[['Age','DistanceFromHome','Education','MonthlyIncome', 'NumCompaniesWorked', 'PercentSalaryHike','TotalWorkingYears',\n",
    "  'TrainingTimesLastYear', 'YearsAtCompany','YearsSinceLastPromotion', 'YearsWithCurrManager']].median()"
   ]
  },
  {
   "cell_type": "code",
   "execution_count": 102,
   "metadata": {},
   "outputs": [
    {
     "data": {
      "text/html": [
       "<div>\n",
       "<style scoped>\n",
       "    .dataframe tbody tr th:only-of-type {\n",
       "        vertical-align: middle;\n",
       "    }\n",
       "\n",
       "    .dataframe tbody tr th {\n",
       "        vertical-align: top;\n",
       "    }\n",
       "\n",
       "    .dataframe thead th {\n",
       "        text-align: right;\n",
       "    }\n",
       "</style>\n",
       "<table border=\"1\" class=\"dataframe\">\n",
       "  <thead>\n",
       "    <tr style=\"text-align: right;\">\n",
       "      <th></th>\n",
       "      <th>0</th>\n",
       "    </tr>\n",
       "  </thead>\n",
       "  <tbody>\n",
       "    <tr>\n",
       "      <th>Age</th>\n",
       "      <td>35.0</td>\n",
       "    </tr>\n",
       "    <tr>\n",
       "      <th>DistanceFromHome</th>\n",
       "      <td>2.0</td>\n",
       "    </tr>\n",
       "    <tr>\n",
       "      <th>Education</th>\n",
       "      <td>3.0</td>\n",
       "    </tr>\n",
       "    <tr>\n",
       "      <th>MonthlyIncome</th>\n",
       "      <td>23420.0</td>\n",
       "    </tr>\n",
       "    <tr>\n",
       "      <th>NumCompaniesWorked</th>\n",
       "      <td>1.0</td>\n",
       "    </tr>\n",
       "    <tr>\n",
       "      <th>PercentSalaryHike</th>\n",
       "      <td>11.0</td>\n",
       "    </tr>\n",
       "    <tr>\n",
       "      <th>TotalWorkingYears</th>\n",
       "      <td>10.0</td>\n",
       "    </tr>\n",
       "    <tr>\n",
       "      <th>TrainingTimesLastYear</th>\n",
       "      <td>2.0</td>\n",
       "    </tr>\n",
       "    <tr>\n",
       "      <th>YearsAtCompany</th>\n",
       "      <td>5.0</td>\n",
       "    </tr>\n",
       "    <tr>\n",
       "      <th>YearsSinceLastPromotion</th>\n",
       "      <td>0.0</td>\n",
       "    </tr>\n",
       "    <tr>\n",
       "      <th>YearsWithCurrManager</th>\n",
       "      <td>2.0</td>\n",
       "    </tr>\n",
       "  </tbody>\n",
       "</table>\n",
       "</div>"
      ],
      "text/plain": [
       "                               0\n",
       "Age                         35.0\n",
       "DistanceFromHome             2.0\n",
       "Education                    3.0\n",
       "MonthlyIncome            23420.0\n",
       "NumCompaniesWorked           1.0\n",
       "PercentSalaryHike           11.0\n",
       "TotalWorkingYears           10.0\n",
       "TrainingTimesLastYear        2.0\n",
       "YearsAtCompany               5.0\n",
       "YearsSinceLastPromotion      0.0\n",
       "YearsWithCurrManager         2.0"
      ]
     },
     "execution_count": 102,
     "metadata": {},
     "output_type": "execute_result"
    }
   ],
   "source": [
    "# Mode\n",
    "df[['Age','DistanceFromHome','Education','MonthlyIncome', 'NumCompaniesWorked', 'PercentSalaryHike','TotalWorkingYears', \n",
    "  'TrainingTimesLastYear', 'YearsAtCompany','YearsSinceLastPromotion', 'YearsWithCurrManager']].mode().T"
   ]
  },
  {
   "cell_type": "code",
   "execution_count": 30,
   "metadata": {},
   "outputs": [
    {
     "data": {
      "text/plain": [
       "Age                        8.341719e+01\n",
       "DistanceFromHome           6.569144e+01\n",
       "Education                  1.048438e+00\n",
       "MonthlyIncome              2.215480e+09\n",
       "NumCompaniesWorked         6.248686e+00\n",
       "PercentSalaryHike          1.338907e+01\n",
       "TotalWorkingYears          6.069855e+01\n",
       "TrainingTimesLastYear      1.661465e+00\n",
       "YearsAtCompany             3.751728e+01\n",
       "YearsSinceLastPromotion    1.037935e+01\n",
       "YearsWithCurrManager       1.272582e+01\n",
       "dtype: float64"
      ]
     },
     "execution_count": 30,
     "metadata": {},
     "output_type": "execute_result"
    }
   ],
   "source": [
    "# Variance\n",
    "df[['Age','DistanceFromHome','Education','MonthlyIncome', 'NumCompaniesWorked', 'PercentSalaryHike',\n",
    "    'TotalWorkingYears', 'TrainingTimesLastYear', 'YearsAtCompany','YearsSinceLastPromotion', 'YearsWithCurrManager']].var()"
   ]
  },
  {
   "cell_type": "code",
   "execution_count": 32,
   "metadata": {},
   "outputs": [
    {
     "data": {
      "text/plain": [
       "Age                        0.413005\n",
       "DistanceFromHome           0.957466\n",
       "Education                 -0.289484\n",
       "MonthlyIncome              1.368884\n",
       "NumCompaniesWorked         1.029836\n",
       "PercentSalaryHike          0.820569\n",
       "TotalWorkingYears          1.113489\n",
       "TrainingTimesLastYear      0.552748\n",
       "YearsAtCompany             1.763328\n",
       "YearsSinceLastPromotion    1.982939\n",
       "YearsWithCurrManager       0.832884\n",
       "dtype: float64"
      ]
     },
     "execution_count": 32,
     "metadata": {},
     "output_type": "execute_result"
    }
   ],
   "source": [
    "# Skewness\n",
    "df[['Age','DistanceFromHome','Education','MonthlyIncome', 'NumCompaniesWorked', 'PercentSalaryHike',\n",
    "    'TotalWorkingYears', 'TrainingTimesLastYear', 'YearsAtCompany','YearsSinceLastPromotion', 'YearsWithCurrManager']].skew()"
   ]
  },
  {
   "cell_type": "code",
   "execution_count": 33,
   "metadata": {},
   "outputs": [
    {
     "data": {
      "text/plain": [
       "Age                       -0.405951\n",
       "DistanceFromHome          -0.227045\n",
       "Education                 -0.560569\n",
       "MonthlyIncome              1.000232\n",
       "NumCompaniesWorked         0.015084\n",
       "PercentSalaryHike         -0.302638\n",
       "TotalWorkingYears          0.909606\n",
       "TrainingTimesLastYear      0.491149\n",
       "YearsAtCompany             3.923864\n",
       "YearsSinceLastPromotion    3.601761\n",
       "YearsWithCurrManager       0.167949\n",
       "dtype: float64"
      ]
     },
     "execution_count": 33,
     "metadata": {},
     "output_type": "execute_result"
    }
   ],
   "source": [
    "# kurtosis \n",
    "df[['Age','DistanceFromHome','Education','MonthlyIncome', 'NumCompaniesWorked', 'PercentSalaryHike',\n",
    "    'TotalWorkingYears', 'TrainingTimesLastYear', 'YearsAtCompany','YearsSinceLastPromotion', 'YearsWithCurrManager']].kurt()"
   ]
  },
  {
   "attachments": {},
   "cell_type": "markdown",
   "metadata": {},
   "source": [
    "### From above Description we have to see the continuous features that can be causes to Attrition i.e 'Age','DistanceFromHome','MonthlyIncome', 'PercentSalaryHike', 'TotalWorkingYears', 'YearsAtCompany','YearsSinceLastPromotion', 'YearsWithCurrManager'\n",
    "### from these features all of them showing positive Skewness\n",
    "### Age, DistanceFromHome, PercentSalaryHike are leptokurtic and all other are platykurtic. "
   ]
  },
  {
   "cell_type": "markdown",
   "metadata": {},
   "source": [
    "## First let's check Attrition rate %"
   ]
  },
  {
   "cell_type": "code",
   "execution_count": 142,
   "metadata": {},
   "outputs": [
    {
     "data": {
      "text/plain": [
       "([<matplotlib.patches.Wedge at 0x178f8488>,\n",
       "  <matplotlib.patches.Wedge at 0x178f5948>],\n",
       " [Text(-0.9618916732177651, 0.5336332157899547, 'Attrition No'),\n",
       "  Text(1.1367810683482678, -0.6306574368426737, 'Attrition Yes')],\n",
       " [Text(-0.5246681853915082, 0.29107266315815705, '84%'),\n",
       "  Text(0.6995575805220109, -0.3880968842108762, '16%')])"
      ]
     },
     "execution_count": 142,
     "metadata": {},
     "output_type": "execute_result"
    },
    {
     "data": {
      "image/png": "[encoded data removed]",
      "text/plain": [
       "<Figure size 432x288 with 1 Axes>"
      ]
     },
     "metadata": {},
     "output_type": "display_data"
    }
   ],
   "source": [
    "plt.pie(df['Attrition'].value_counts(), explode= (0,0.2),\n",
    "autopct='%1.0f%%', shadow=True, labels= ['Attrition No', 'Attrition Yes'])"
   ]
  },
  {
   "cell_type": "markdown",
   "metadata": {},
   "source": [
    "#### Let's check outliers through box plot"
   ]
  },
  {
   "cell_type": "code",
   "execution_count": 112,
   "metadata": {},
   "outputs": [
    {
     "data": {
      "text/plain": [
       "{'whiskers': [<matplotlib.lines.Line2D at 0x145a46c8>,\n",
       "  <matplotlib.lines.Line2D at 0x145a4fc8>],\n",
       " 'caps': [<matplotlib.lines.Line2D at 0x145a7808>,\n",
       "  <matplotlib.lines.Line2D at 0x145a7fc8>],\n",
       " 'boxes': [<matplotlib.patches.PathPatch at 0x145a4108>],\n",
       " 'medians': [<matplotlib.lines.Line2D at 0x145a7f48>],\n",
       " 'fliers': [<matplotlib.lines.Line2D at 0x145abf88>],\n",
       " 'means': []}"
      ]
     },
     "execution_count": 112,
     "metadata": {},
     "output_type": "execute_result"
    },
    {
     "data": {
      "image/png": "[encoded data removed]",
      "text/plain": [
       "<Figure size 432x288 with 1 Axes>"
      ]
     },
     "metadata": {
      "needs_background": "light"
     },
     "output_type": "display_data"
    }
   ],
   "source": [
    "plt.boxplot(df.Age, patch_artist= True, labels = ['Age'])\n"
   ]
  },
  {
   "cell_type": "code",
   "execution_count": 81,
   "metadata": {},
   "outputs": [
    {
     "data": {
      "text/plain": [
       "{'whiskers': [<matplotlib.lines.Line2D at 0xf0a1048>,\n",
       "  <matplotlib.lines.Line2D at 0xf8af248>],\n",
       " 'caps': [<matplotlib.lines.Line2D at 0xf8aff48>,\n",
       "  <matplotlib.lines.Line2D at 0xf8d3608>],\n",
       " 'boxes': [<matplotlib.patches.PathPatch at 0xf489e08>],\n",
       " 'medians': [<matplotlib.lines.Line2D at 0xf8c80c8>],\n",
       " 'fliers': [<matplotlib.lines.Line2D at 0xf8cf648>],\n",
       " 'means': []}"
      ]
     },
     "execution_count": 81,
     "metadata": {},
     "output_type": "execute_result"
    },
    {
     "data": {
      "image/png": "[encoded data removed]",
      "text/plain": [
       "<Figure size 432x288 with 1 Axes>"
      ]
     },
     "metadata": {
      "needs_background": "light"
     },
     "output_type": "display_data"
    }
   ],
   "source": [
    "plt.boxplot(df.DistanceFromHome, patch_artist= True, labels = ['DistanceFromHome'])"
   ]
  },
  {
   "cell_type": "code",
   "execution_count": 82,
   "metadata": {},
   "outputs": [
    {
     "data": {
      "text/plain": [
       "{'whiskers': [<matplotlib.lines.Line2D at 0xcbdc5c8>,\n",
       "  <matplotlib.lines.Line2D at 0xcbdcb08>],\n",
       " 'caps': [<matplotlib.lines.Line2D at 0xf8e2c88>,\n",
       "  <matplotlib.lines.Line2D at 0xf5d3fc8>],\n",
       " 'boxes': [<matplotlib.patches.PathPatch at 0xf8e0bc8>],\n",
       " 'medians': [<matplotlib.lines.Line2D at 0xf6de308>],\n",
       " 'fliers': [<matplotlib.lines.Line2D at 0xeb8f7c8>],\n",
       " 'means': []}"
      ]
     },
     "execution_count": 82,
     "metadata": {},
     "output_type": "execute_result"
    },
    {
     "data": {
      "image/png": "[encoded data removed]",
      "text/plain": [
       "<Figure size 432x288 with 1 Axes>"
      ]
     },
     "metadata": {
      "needs_background": "light"
     },
     "output_type": "display_data"
    }
   ],
   "source": [
    "plt.boxplot(df.MonthlyIncome, patch_artist= True, labels = ['MonthlyIncome'])"
   ]
  },
  {
   "cell_type": "code",
   "execution_count": 83,
   "metadata": {},
   "outputs": [
    {
     "data": {
      "text/plain": [
       "{'whiskers': [<matplotlib.lines.Line2D at 0xef94d88>,\n",
       "  <matplotlib.lines.Line2D at 0xed2ac48>],\n",
       " 'caps': [<matplotlib.lines.Line2D at 0xf6baac8>,\n",
       "  <matplotlib.lines.Line2D at 0xf92c288>],\n",
       " 'boxes': [<matplotlib.patches.PathPatch at 0xf533888>],\n",
       " 'medians': [<matplotlib.lines.Line2D at 0xfeb6348>],\n",
       " 'fliers': [<matplotlib.lines.Line2D at 0xccd1548>],\n",
       " 'means': []}"
      ]
     },
     "execution_count": 83,
     "metadata": {},
     "output_type": "execute_result"
    },
    {
     "data": {
      "image/png": "[encoded data removed]",
      "text/plain": [
       "<Figure size 432x288 with 1 Axes>"
      ]
     },
     "metadata": {
      "needs_background": "light"
     },
     "output_type": "display_data"
    }
   ],
   "source": [
    "plt.boxplot(df.PercentSalaryHike, patch_artist= True, labels = ['PercentSalaryHike'])"
   ]
  },
  {
   "cell_type": "code",
   "execution_count": 84,
   "metadata": {},
   "outputs": [
    {
     "data": {
      "text/plain": [
       "{'whiskers': [<matplotlib.lines.Line2D at 0xcbd3b88>,\n",
       "  <matplotlib.lines.Line2D at 0xeb70788>],\n",
       " 'caps': [<matplotlib.lines.Line2D at 0xeb70fc8>,\n",
       "  <matplotlib.lines.Line2D at 0xeb4ba08>],\n",
       " 'boxes': [<matplotlib.patches.PathPatch at 0xcc86b88>],\n",
       " 'medians': [<matplotlib.lines.Line2D at 0xff90788>],\n",
       " 'fliers': [<matplotlib.lines.Line2D at 0xdf75d88>],\n",
       " 'means': []}"
      ]
     },
     "execution_count": 84,
     "metadata": {},
     "output_type": "execute_result"
    },
    {
     "data": {
      "image/png": "[encoded data removed]",
      "text/plain": [
       "<Figure size 432x288 with 1 Axes>"
      ]
     },
     "metadata": {
      "needs_background": "light"
     },
     "output_type": "display_data"
    }
   ],
   "source": [
    "plt.boxplot(df.TotalWorkingYears, patch_artist= True, labels = ['TotalWorkingYears'])"
   ]
  },
  {
   "cell_type": "code",
   "execution_count": 85,
   "metadata": {},
   "outputs": [
    {
     "data": {
      "text/plain": [
       "{'whiskers': [<matplotlib.lines.Line2D at 0xff725c8>,\n",
       "  <matplotlib.lines.Line2D at 0xeb56d88>],\n",
       " 'caps': [<matplotlib.lines.Line2D at 0x101f9308>,\n",
       "  <matplotlib.lines.Line2D at 0xec08d08>],\n",
       " 'boxes': [<matplotlib.patches.PathPatch at 0xfe0ff88>],\n",
       " 'medians': [<matplotlib.lines.Line2D at 0x1022d308>],\n",
       " 'fliers': [<matplotlib.lines.Line2D at 0x1022d988>],\n",
       " 'means': []}"
      ]
     },
     "execution_count": 85,
     "metadata": {},
     "output_type": "execute_result"
    },
    {
     "data": {
      "image/png": "[encoded data removed]",
      "text/plain": [
       "<Figure size 432x288 with 1 Axes>"
      ]
     },
     "metadata": {
      "needs_background": "light"
     },
     "output_type": "display_data"
    }
   ],
   "source": [
    "plt.boxplot(df.YearsAtCompany, patch_artist= True, labels = ['YearsAtCompany'])"
   ]
  },
  {
   "cell_type": "code",
   "execution_count": 95,
   "metadata": {},
   "outputs": [
    {
     "data": {
      "text/plain": [
       "{'whiskers': [<matplotlib.lines.Line2D at 0x14035ec8>,\n",
       "  <matplotlib.lines.Line2D at 0x14058b08>],\n",
       " 'caps': [<matplotlib.lines.Line2D at 0x140ac448>,\n",
       "  <matplotlib.lines.Line2D at 0x140bfec8>],\n",
       " 'boxes': [<matplotlib.patches.PathPatch at 0x1407bd48>],\n",
       " 'medians': [<matplotlib.lines.Line2D at 0x14073b88>],\n",
       " 'fliers': [<matplotlib.lines.Line2D at 0x1406d108>],\n",
       " 'means': []}"
      ]
     },
     "execution_count": 95,
     "metadata": {},
     "output_type": "execute_result"
    },
    {
     "data": {
      "image/png": "[encoded data removed]",
      "text/plain": [
       "<Figure size 432x288 with 1 Axes>"
      ]
     },
     "metadata": {
      "needs_background": "light"
     },
     "output_type": "display_data"
    }
   ],
   "source": [
    "plt.boxplot(df.YearsSinceLastPromotion,patch_artist= True, labels = ['YearsSinceLastPromotion'])"
   ]
  },
  {
   "cell_type": "code",
   "execution_count": 96,
   "metadata": {},
   "outputs": [
    {
     "data": {
      "text/plain": [
       "{'whiskers': [<matplotlib.lines.Line2D at 0x13fff208>,\n",
       "  <matplotlib.lines.Line2D at 0x13fc7648>],\n",
       " 'caps': [<matplotlib.lines.Line2D at 0x13fc7408>,\n",
       "  <matplotlib.lines.Line2D at 0x1400ce48>],\n",
       " 'boxes': [<matplotlib.patches.PathPatch at 0x13fff948>],\n",
       " 'medians': [<matplotlib.lines.Line2D at 0x1402ce08>],\n",
       " 'fliers': [<matplotlib.lines.Line2D at 0x1402c788>],\n",
       " 'means': []}"
      ]
     },
     "execution_count": 96,
     "metadata": {},
     "output_type": "execute_result"
    },
    {
     "data": {
      "image/png": "[encoded data removed]",
      "text/plain": [
       "<Figure size 432x288 with 1 Axes>"
      ]
     },
     "metadata": {
      "needs_background": "light"
     },
     "output_type": "display_data"
    }
   ],
   "source": [
    "plt.boxplot(df.YearsWithCurrManager, patch_artist= True, labels = ['YearsWithCurrManager'])"
   ]
  },
  {
   "cell_type": "markdown",
   "metadata": {},
   "source": [
    "### From above boxplots we can see that Age, DistanceFromHome, PercentSalaryHike don't have Outliers others have outliers\n",
    "### IQR of Age is 30 to 43 years (13 years)"
   ]
  },
  {
   "cell_type": "code",
   "execution_count": 109,
   "metadata": {
    "scrolled": true
   },
   "outputs": [
    {
     "data": {
      "text/plain": [
       "<matplotlib.axes._subplots.AxesSubplot at 0x129237c8>"
      ]
     },
     "execution_count": 109,
     "metadata": {},
     "output_type": "execute_result"
    },
    {
     "data": {
      "image/png": "[encoded data removed]",
      "text/plain": [
       "<Figure size 432x288 with 1 Axes>"
      ]
     },
     "metadata": {
      "needs_background": "light"
     },
     "output_type": "display_data"
    }
   ],
   "source": [
    "sns.distplot(df.Age)"
   ]
  },
  {
   "cell_type": "code",
   "execution_count": 113,
   "metadata": {},
   "outputs": [
    {
     "data": {
      "text/plain": [
       "<matplotlib.axes._subplots.AxesSubplot at 0x145cd648>"
      ]
     },
     "execution_count": 113,
     "metadata": {},
     "output_type": "execute_result"
    },
    {
     "data": {
      "image/png": "[encoded data removed]",
      "text/plain": [
       "<Figure size 432x288 with 1 Axes>"
      ]
     },
     "metadata": {
      "needs_background": "light"
     },
     "output_type": "display_data"
    }
   ],
   "source": [
    "sns.distplot(df.DistanceFromHome)"
   ]
  },
  {
   "cell_type": "code",
   "execution_count": 115,
   "metadata": {},
   "outputs": [
    {
     "data": {
      "text/plain": [
       "<matplotlib.axes._subplots.AxesSubplot at 0x1476d8c8>"
      ]
     },
     "execution_count": 115,
     "metadata": {},
     "output_type": "execute_result"
    },
    {
     "data": {
      "image/png": "[encoded data removed]",
      "text/plain": [
       "<Figure size 432x288 with 1 Axes>"
      ]
     },
     "metadata": {
      "needs_background": "light"
     },
     "output_type": "display_data"
    }
   ],
   "source": [
    "sns.distplot(df.MonthlyIncome)"
   ]
  },
  {
   "cell_type": "code",
   "execution_count": 116,
   "metadata": {},
   "outputs": [
    {
     "data": {
      "text/plain": [
       "<matplotlib.axes._subplots.AxesSubplot at 0x14790448>"
      ]
     },
     "execution_count": 116,
     "metadata": {},
     "output_type": "execute_result"
    },
    {
     "data": {
      "image/png": "[encoded data removed]",
      "text/plain": [
       "<Figure size 432x288 with 1 Axes>"
      ]
     },
     "metadata": {
      "needs_background": "light"
     },
     "output_type": "display_data"
    }
   ],
   "source": [
    "sns.distplot(df.PercentSalaryHike)"
   ]
  },
  {
   "cell_type": "code",
   "execution_count": 117,
   "metadata": {},
   "outputs": [
    {
     "data": {
      "text/plain": [
       "<matplotlib.axes._subplots.AxesSubplot at 0x1580bf88>"
      ]
     },
     "execution_count": 117,
     "metadata": {},
     "output_type": "execute_result"
    },
    {
     "data": {
      "image/png": "[encoded data removed]",
      "text/plain": [
       "<Figure size 432x288 with 1 Axes>"
      ]
     },
     "metadata": {
      "needs_background": "light"
     },
     "output_type": "display_data"
    }
   ],
   "source": [
    "sns.distplot(df.TotalWorkingYears)"
   ]
  },
  {
   "cell_type": "code",
   "execution_count": 118,
   "metadata": {},
   "outputs": [
    {
     "data": {
      "text/plain": [
       "<matplotlib.axes._subplots.AxesSubplot at 0x1580be48>"
      ]
     },
     "execution_count": 118,
     "metadata": {},
     "output_type": "execute_result"
    },
    {
     "data": {
      "image/png": "[encoded data removed]",
      "text/plain": [
       "<Figure size 432x288 with 1 Axes>"
      ]
     },
     "metadata": {
      "needs_background": "light"
     },
     "output_type": "display_data"
    }
   ],
   "source": [
    "sns.distplot(df.YearsAtCompany)"
   ]
  },
  {
   "cell_type": "code",
   "execution_count": 119,
   "metadata": {},
   "outputs": [
    {
     "data": {
      "text/plain": [
       "<matplotlib.axes._subplots.AxesSubplot at 0x15a1b888>"
      ]
     },
     "execution_count": 119,
     "metadata": {},
     "output_type": "execute_result"
    },
    {
     "data": {
      "image/png": "[encoded data removed]",
      "text/plain": [
       "<Figure size 432x288 with 1 Axes>"
      ]
     },
     "metadata": {
      "needs_background": "light"
     },
     "output_type": "display_data"
    }
   ],
   "source": [
    "sns.distplot(df.YearsSinceLastPromotion)"
   ]
  },
  {
   "cell_type": "code",
   "execution_count": 121,
   "metadata": {},
   "outputs": [
    {
     "data": {
      "text/plain": [
       "<matplotlib.axes._subplots.AxesSubplot at 0x16947a88>"
      ]
     },
     "execution_count": 121,
     "metadata": {},
     "output_type": "execute_result"
    },
    {
     "data": {
      "image/png": "[encoded data removed]",
      "text/plain": [
       "<Figure size 432x288 with 1 Axes>"
      ]
     },
     "metadata": {
      "needs_background": "light"
     },
     "output_type": "display_data"
    }
   ],
   "source": [
    "sns.distplot(df.YearsWithCurrManager)"
   ]
  },
  {
   "cell_type": "markdown",
   "metadata": {},
   "source": [
    "### From above distplots we can see Distribution & Skewness of individual variables"
   ]
  },
  {
   "cell_type": "markdown",
   "metadata": {},
   "source": [
    "## Let's see data distribution with Categorical Features\n",
    "#### Categorical features which can have dependency on Attrition are: BusinessTravel, Department, Gender, JobLevel, JobRole, MaritalStatus"
   ]
  },
  {
   "cell_type": "code",
   "execution_count": 123,
   "metadata": {},
   "outputs": [
    {
     "data": {
      "text/plain": [
       "Index(['Age', 'Attrition', 'BusinessTravel', 'Department', 'DistanceFromHome',\n",
       "       'Education', 'EducationField', 'Gender', 'JobLevel', 'JobRole',\n",
       "       'MaritalStatus', 'MonthlyIncome', 'NumCompaniesWorked',\n",
       "       'PercentSalaryHike', 'StockOptionLevel', 'TotalWorkingYears',\n",
       "       'TrainingTimesLastYear', 'YearsAtCompany', 'YearsSinceLastPromotion',\n",
       "       'YearsWithCurrManager'],\n",
       "      dtype='object')"
      ]
     },
     "execution_count": 123,
     "metadata": {},
     "output_type": "execute_result"
    }
   ],
   "source": [
    "df.columns"
   ]
  },
  {
   "cell_type": "code",
   "execution_count": 129,
   "metadata": {},
   "outputs": [
    {
     "data": {
      "text/plain": [
       "<matplotlib.axes._subplots.AxesSubplot at 0x16dd1508>"
      ]
     },
     "execution_count": 129,
     "metadata": {},
     "output_type": "execute_result"
    },
    {
     "data": {
      "image/png": "[encoded data removed]",
      "text/plain": [
       "<Figure size 432x288 with 1 Axes>"
      ]
     },
     "metadata": {
      "needs_background": "light"
     },
     "output_type": "display_data"
    }
   ],
   "source": [
    "sns.countplot('Attrition', data= df, hue= 'BusinessTravel')"
   ]
  },
  {
   "cell_type": "code",
   "execution_count": 135,
   "metadata": {},
   "outputs": [
    {
     "data": {
      "text/plain": [
       "<matplotlib.axes._subplots.AxesSubplot at 0x16dfe808>"
      ]
     },
     "execution_count": 135,
     "metadata": {},
     "output_type": "execute_result"
    },
    {
     "data": {
      "image/png": "[encoded data removed]",
      "text/plain": [
       "<Figure size 432x288 with 1 Axes>"
      ]
     },
     "metadata": {
      "needs_background": "light"
     },
     "output_type": "display_data"
    }
   ],
   "source": [
    "sns.countplot('Attrition', data= df, hue= 'Department')"
   ]
  },
  {
   "cell_type": "code",
   "execution_count": 136,
   "metadata": {},
   "outputs": [
    {
     "data": {
      "text/plain": [
       "<matplotlib.axes._subplots.AxesSubplot at 0x170f3fc8>"
      ]
     },
     "execution_count": 136,
     "metadata": {},
     "output_type": "execute_result"
    },
    {
     "data": {
      "image/png": "[encoded data removed]",
      "text/plain": [
       "<Figure size 432x288 with 1 Axes>"
      ]
     },
     "metadata": {
      "needs_background": "light"
     },
     "output_type": "display_data"
    }
   ],
   "source": [
    "sns.countplot('Attrition', data= df, hue= 'Gender')"
   ]
  },
  {
   "cell_type": "code",
   "execution_count": 137,
   "metadata": {},
   "outputs": [
    {
     "data": {
      "text/plain": [
       "<matplotlib.axes._subplots.AxesSubplot at 0x17169ec8>"
      ]
     },
     "execution_count": 137,
     "metadata": {},
     "output_type": "execute_result"
    },
    {
     "data": {
      "image/png": "[encoded data removed]",
      "text/plain": [
       "<Figure size 432x288 with 1 Axes>"
      ]
     },
     "metadata": {
      "needs_background": "light"
     },
     "output_type": "display_data"
    }
   ],
   "source": [
    "sns.countplot('Attrition', data= df, hue= 'JobLevel')"
   ]
  },
  {
   "cell_type": "code",
   "execution_count": 138,
   "metadata": {},
   "outputs": [
    {
     "data": {
      "text/plain": [
       "<matplotlib.axes._subplots.AxesSubplot at 0x171cc788>"
      ]
     },
     "execution_count": 138,
     "metadata": {},
     "output_type": "execute_result"
    },
    {
     "data": {
      "image/png": "[encoded data removed]",
      "text/plain": [
       "<Figure size 432x288 with 1 Axes>"
      ]
     },
     "metadata": {
      "needs_background": "light"
     },
     "output_type": "display_data"
    }
   ],
   "source": [
    "sns.countplot('Attrition', data= df, hue= 'JobRole')"
   ]
  },
  {
   "cell_type": "code",
   "execution_count": 139,
   "metadata": {},
   "outputs": [
    {
     "data": {
      "text/plain": [
       "<matplotlib.axes._subplots.AxesSubplot at 0x17253108>"
      ]
     },
     "execution_count": 139,
     "metadata": {},
     "output_type": "execute_result"
    },
    {
     "data": {
      "image/png": "[encoded data removed]",
      "text/plain": [
       "<Figure size 432x288 with 1 Axes>"
      ]
     },
     "metadata": {
      "needs_background": "light"
     },
     "output_type": "display_data"
    }
   ],
   "source": [
    "sns.countplot('Attrition', data= df, hue= 'MaritalStatus')"
   ]
  },
  {
   "cell_type": "markdown",
   "metadata": {},
   "source": [
    "### From above plots we can make some conclusions:\n",
    "#### 1. The employee who Rarely travels have high attrition rate\n",
    "#### 2. Research & Development Department has high Attrition rate\n",
    "#### 3. Male Employees have high Attrition rate as compared to Female Employees\n",
    "#### 4. Job level 1 & 2 has high Attrition rate\n",
    "#### 5. Research & Development, Sales Executives & Laboratory Technitions has high Attrition rate\n",
    "#### 6. Single employees has high Attrition rate than married and Divorced Employees"
   ]
  },
  {
   "cell_type": "code",
   "execution_count": 143,
   "metadata": {},
   "outputs": [
    {
     "name": "stdout",
     "output_type": "stream",
     "text": [
      "['Travel_Rarely' 'Travel_Frequently' 'Non-Travel']\n",
      "['Life Sciences' 'Other' 'Medical' 'Marketing' 'Technical Degree'\n",
      " 'Human Resources']\n",
      "['Female' 'Male']\n",
      "['Sales' 'Research & Development' 'Human Resources']\n",
      "['Healthcare Representative' 'Research Scientist' 'Sales Executive'\n",
      " 'Human Resources' 'Research Director' 'Laboratory Technician'\n",
      " 'Manufacturing Director' 'Sales Representative' 'Manager']\n",
      "['Married' 'Single' 'Divorced']\n"
     ]
    }
   ],
   "source": [
    "#Convert all the Categorical data into numerical data\n",
    "# get unique values from each categorical feature\n",
    "print(df['BusinessTravel'].unique())\n",
    "print(df['EducationField'].unique())\n",
    "print(df['Gender'].unique())\n",
    "print(df['Department'].unique())\n",
    "print(df['JobRole'].unique())\n",
    "print(df['MaritalStatus'].unique())"
   ]
  },
  {
   "cell_type": "code",
   "execution_count": 145,
   "metadata": {},
   "outputs": [],
   "source": [
    "# sklearn used to convert data to numerical\n",
    "from sklearn.preprocessing import LabelEncoder\n",
    "cat_x = LabelEncoder()\n",
    "\n",
    "df['BusinessTravel'] = cat_x.fit_transform(df['BusinessTravel'])\n",
    "df['Department'] = cat_x.fit_transform(df['Department'])\n",
    "df['EducationField'] = cat_x.fit_transform(df['EducationField'])\n",
    "df['Gender'] = cat_x.fit_transform(df['Gender'])\n",
    "df['JobRole'] = cat_x.fit_transform(df['JobRole'])\n",
    "df['MaritalStatus'] = cat_x.fit_transform(df['MaritalStatus'])\n",
    "df['Attrition'] = cat_x.fit_transform(df['Attrition'])"
   ]
  },
  {
   "cell_type": "code",
   "execution_count": 146,
   "metadata": {},
   "outputs": [
    {
     "data": {
      "text/html": [
       "<div>\n",
       "<style scoped>\n",
       "    .dataframe tbody tr th:only-of-type {\n",
       "        vertical-align: middle;\n",
       "    }\n",
       "\n",
       "    .dataframe tbody tr th {\n",
       "        vertical-align: top;\n",
       "    }\n",
       "\n",
       "    .dataframe thead th {\n",
       "        text-align: right;\n",
       "    }\n",
       "</style>\n",
       "<table border=\"1\" class=\"dataframe\">\n",
       "  <thead>\n",
       "    <tr style=\"text-align: right;\">\n",
       "      <th></th>\n",
       "      <th>Age</th>\n",
       "      <th>Attrition</th>\n",
       "      <th>BusinessTravel</th>\n",
       "      <th>Department</th>\n",
       "      <th>DistanceFromHome</th>\n",
       "      <th>Education</th>\n",
       "      <th>EducationField</th>\n",
       "      <th>Gender</th>\n",
       "      <th>JobLevel</th>\n",
       "      <th>JobRole</th>\n",
       "      <th>MaritalStatus</th>\n",
       "      <th>MonthlyIncome</th>\n",
       "      <th>NumCompaniesWorked</th>\n",
       "      <th>PercentSalaryHike</th>\n",
       "      <th>StockOptionLevel</th>\n",
       "      <th>TotalWorkingYears</th>\n",
       "      <th>TrainingTimesLastYear</th>\n",
       "      <th>YearsAtCompany</th>\n",
       "      <th>YearsSinceLastPromotion</th>\n",
       "      <th>YearsWithCurrManager</th>\n",
       "    </tr>\n",
       "  </thead>\n",
       "  <tbody>\n",
       "    <tr>\n",
       "      <th>0</th>\n",
       "      <td>51</td>\n",
       "      <td>0</td>\n",
       "      <td>2</td>\n",
       "      <td>2</td>\n",
       "      <td>6</td>\n",
       "      <td>2</td>\n",
       "      <td>1</td>\n",
       "      <td>0</td>\n",
       "      <td>1</td>\n",
       "      <td>0</td>\n",
       "      <td>1</td>\n",
       "      <td>131160</td>\n",
       "      <td>1.0</td>\n",
       "      <td>11</td>\n",
       "      <td>0</td>\n",
       "      <td>1.0</td>\n",
       "      <td>6</td>\n",
       "      <td>1</td>\n",
       "      <td>0</td>\n",
       "      <td>0</td>\n",
       "    </tr>\n",
       "    <tr>\n",
       "      <th>1</th>\n",
       "      <td>31</td>\n",
       "      <td>1</td>\n",
       "      <td>1</td>\n",
       "      <td>1</td>\n",
       "      <td>10</td>\n",
       "      <td>1</td>\n",
       "      <td>1</td>\n",
       "      <td>0</td>\n",
       "      <td>1</td>\n",
       "      <td>6</td>\n",
       "      <td>2</td>\n",
       "      <td>41890</td>\n",
       "      <td>0.0</td>\n",
       "      <td>23</td>\n",
       "      <td>1</td>\n",
       "      <td>6.0</td>\n",
       "      <td>3</td>\n",
       "      <td>5</td>\n",
       "      <td>1</td>\n",
       "      <td>4</td>\n",
       "    </tr>\n",
       "    <tr>\n",
       "      <th>2</th>\n",
       "      <td>32</td>\n",
       "      <td>0</td>\n",
       "      <td>1</td>\n",
       "      <td>1</td>\n",
       "      <td>17</td>\n",
       "      <td>4</td>\n",
       "      <td>4</td>\n",
       "      <td>1</td>\n",
       "      <td>4</td>\n",
       "      <td>7</td>\n",
       "      <td>1</td>\n",
       "      <td>193280</td>\n",
       "      <td>1.0</td>\n",
       "      <td>15</td>\n",
       "      <td>3</td>\n",
       "      <td>5.0</td>\n",
       "      <td>2</td>\n",
       "      <td>5</td>\n",
       "      <td>0</td>\n",
       "      <td>3</td>\n",
       "    </tr>\n",
       "    <tr>\n",
       "      <th>3</th>\n",
       "      <td>38</td>\n",
       "      <td>0</td>\n",
       "      <td>0</td>\n",
       "      <td>1</td>\n",
       "      <td>2</td>\n",
       "      <td>5</td>\n",
       "      <td>1</td>\n",
       "      <td>1</td>\n",
       "      <td>3</td>\n",
       "      <td>1</td>\n",
       "      <td>1</td>\n",
       "      <td>83210</td>\n",
       "      <td>3.0</td>\n",
       "      <td>11</td>\n",
       "      <td>3</td>\n",
       "      <td>13.0</td>\n",
       "      <td>5</td>\n",
       "      <td>8</td>\n",
       "      <td>7</td>\n",
       "      <td>5</td>\n",
       "    </tr>\n",
       "    <tr>\n",
       "      <th>4</th>\n",
       "      <td>32</td>\n",
       "      <td>0</td>\n",
       "      <td>2</td>\n",
       "      <td>1</td>\n",
       "      <td>10</td>\n",
       "      <td>1</td>\n",
       "      <td>3</td>\n",
       "      <td>1</td>\n",
       "      <td>1</td>\n",
       "      <td>7</td>\n",
       "      <td>2</td>\n",
       "      <td>23420</td>\n",
       "      <td>4.0</td>\n",
       "      <td>12</td>\n",
       "      <td>2</td>\n",
       "      <td>9.0</td>\n",
       "      <td>2</td>\n",
       "      <td>6</td>\n",
       "      <td>0</td>\n",
       "      <td>4</td>\n",
       "    </tr>\n",
       "  </tbody>\n",
       "</table>\n",
       "</div>"
      ],
      "text/plain": [
       "   Age  Attrition  BusinessTravel  Department  DistanceFromHome  Education  \\\n",
       "0   51          0               2           2                 6          2   \n",
       "1   31          1               1           1                10          1   \n",
       "2   32          0               1           1                17          4   \n",
       "3   38          0               0           1                 2          5   \n",
       "4   32          0               2           1                10          1   \n",
       "\n",
       "   EducationField  Gender  JobLevel  JobRole  MaritalStatus  MonthlyIncome  \\\n",
       "0               1       0         1        0              1         131160   \n",
       "1               1       0         1        6              2          41890   \n",
       "2               4       1         4        7              1         193280   \n",
       "3               1       1         3        1              1          83210   \n",
       "4               3       1         1        7              2          23420   \n",
       "\n",
       "   NumCompaniesWorked  PercentSalaryHike  StockOptionLevel  TotalWorkingYears  \\\n",
       "0                 1.0                 11                 0                1.0   \n",
       "1                 0.0                 23                 1                6.0   \n",
       "2                 1.0                 15                 3                5.0   \n",
       "3                 3.0                 11                 3               13.0   \n",
       "4                 4.0                 12                 2                9.0   \n",
       "\n",
       "   TrainingTimesLastYear  YearsAtCompany  YearsSinceLastPromotion  \\\n",
       "0                      6               1                        0   \n",
       "1                      3               5                        1   \n",
       "2                      2               5                        0   \n",
       "3                      5               8                        7   \n",
       "4                      2               6                        0   \n",
       "\n",
       "   YearsWithCurrManager  \n",
       "0                     0  \n",
       "1                     4  \n",
       "2                     3  \n",
       "3                     5  \n",
       "4                     4  "
      ]
     },
     "execution_count": 146,
     "metadata": {},
     "output_type": "execute_result"
    }
   ],
   "source": [
    "# checking categorical values again it's changed to numerical\n",
    "# No = 0, Yes = 1\n",
    "df.head()"
   ]
  },
  {
   "cell_type": "markdown",
   "metadata": {},
   "source": [
    "## Correlations of all independent features with dependent feature Attrition"
   ]
  },
  {
   "cell_type": "code",
   "execution_count": 150,
   "metadata": {},
   "outputs": [
    {
     "data": {
      "text/plain": [
       "<matplotlib.axes._subplots.AxesSubplot at 0x178e7a88>"
      ]
     },
     "execution_count": 150,
     "metadata": {},
     "output_type": "execute_result"
    },
    {
     "data": {
      "image/png": "[encoded data removed]",
      "text/plain": [
       "<Figure size 432x288 with 2 Axes>"
      ]
     },
     "metadata": {
      "needs_background": "light"
     },
     "output_type": "display_data"
    }
   ],
   "source": [
    "# Correlation of all columns with Attrition\n",
    "sns.heatmap(df.corr().iloc[:, 1:2].drop('Attrition', axis= 0), annot = True)"
   ]
  },
  {
   "cell_type": "code",
   "execution_count": 151,
   "metadata": {},
   "outputs": [],
   "source": [
    "# Function to check Accepting or Rejecting Null Hypothesis\n",
    "def check(Attrition, b, c):\n",
    "    print('\\nNull Hypothesis: There is no Significant Correlation between Attrition and', b)\n",
    "    print('Alternate Hypothesis: There is Significant Correlation between Attrition and', b)\n",
    "    from scipy.stats import pearsonr\n",
    "    stats, p = pearsonr(df.Attrition, c)\n",
    "    print('\\nCorrelation:', stats, 'P Value:', p,'\\n')\n",
    "    if p < 0.05:\n",
    "        print('P-Value < 0.05 hence Null Hypothesis is rejected, Accepting Alternate Hypothesis')\n",
    "        if stats > 0:\n",
    "            print('There is Positive Correlation between Attrition and', b)\n",
    "        else:\n",
    "            print('There is Negative Correlation between Attrition and', b)\n",
    "    else:\n",
    "        print(\"P-Value >= 0.05 hence Null hypothesis is Accepted\")\n",
    "        print('There is no Significant Correlation between Attrition and', b)\n",
    "    print('-----------------------------------------------------------------------------------------------------------------')"
   ]
  },
  {
   "cell_type": "code",
   "execution_count": 152,
   "metadata": {},
   "outputs": [
    {
     "name": "stdout",
     "output_type": "stream",
     "text": [
      "\n",
      "Null Hypothesis: There is no Significant Correlation between Attrition and Age\n",
      "Alternate Hypothesis: There is Significant Correlation between Attrition and Age\n",
      "\n",
      "Correlation: -0.15920500686577965 P Value: 1.996801615886744e-26 \n",
      "\n",
      "P-Value < 0.05 hence Null Hypothesis is rejected, Accepting Alternate Hypothesis\n",
      "There is Negative Correlation between Attrition and Age\n",
      "-----------------------------------------------------------------------------------------------------------------\n",
      "\n",
      "Null Hypothesis: There is no Significant Correlation between Attrition and BusinessTravel\n",
      "Alternate Hypothesis: There is Significant Correlation between Attrition and BusinessTravel\n",
      "\n",
      "Correlation: 7.377694602225034e-05 P Value: 0.9960919945437704 \n",
      "\n",
      "P-Value >= 0.05 hence Null hypothesis is Accepted\n",
      "There is no Significant Correlation between Attrition and BusinessTravel\n",
      "-----------------------------------------------------------------------------------------------------------------\n",
      "\n",
      "Null Hypothesis: There is no Significant Correlation between Attrition and DistanceFromHome\n",
      "Alternate Hypothesis: There is Significant Correlation between Attrition and DistanceFromHome\n",
      "\n",
      "Correlation: -0.009730141010179674 P Value: 0.5182860428050771 \n",
      "\n",
      "P-Value >= 0.05 hence Null hypothesis is Accepted\n",
      "There is no Significant Correlation between Attrition and DistanceFromHome\n",
      "-----------------------------------------------------------------------------------------------------------------\n",
      "\n",
      "Null Hypothesis: There is no Significant Correlation between Attrition and Education\n",
      "Alternate Hypothesis: There is Significant Correlation between Attrition and Education\n",
      "\n",
      "Correlation: -0.015111167710968713 P Value: 0.3157293177118575 \n",
      "\n",
      "P-Value >= 0.05 hence Null hypothesis is Accepted\n",
      "There is no Significant Correlation between Attrition and Education\n",
      "-----------------------------------------------------------------------------------------------------------------\n",
      "\n",
      "Null Hypothesis: There is no Significant Correlation between Attrition and EducationField\n",
      "Alternate Hypothesis: There is Significant Correlation between Attrition and EducationField\n",
      "\n",
      "Correlation: -0.05794031241568039 P Value: 0.00011819790920714883 \n",
      "\n",
      "P-Value < 0.05 hence Null Hypothesis is rejected, Accepting Alternate Hypothesis\n",
      "There is Negative Correlation between Attrition and EducationField\n",
      "-----------------------------------------------------------------------------------------------------------------\n",
      "\n",
      "Null Hypothesis: There is no Significant Correlation between Attrition and Gender\n",
      "Alternate Hypothesis: There is Significant Correlation between Attrition and Gender\n",
      "\n",
      "Correlation: 0.018125078877010238 P Value: 0.22881970951795952 \n",
      "\n",
      "P-Value >= 0.05 hence Null hypothesis is Accepted\n",
      "There is no Significant Correlation between Attrition and Gender\n",
      "-----------------------------------------------------------------------------------------------------------------\n",
      "\n",
      "Null Hypothesis: There is no Significant Correlation between Attrition and JobLevel\n",
      "Alternate Hypothesis: There is Significant Correlation between Attrition and JobLevel\n",
      "\n",
      "Correlation: -0.010289713287495042 P Value: 0.49451717271828405 \n",
      "\n",
      "P-Value >= 0.05 hence Null hypothesis is Accepted\n",
      "There is no Significant Correlation between Attrition and JobLevel\n",
      "-----------------------------------------------------------------------------------------------------------------\n",
      "\n",
      "Null Hypothesis: There is no Significant Correlation between Attrition and JobRole\n",
      "Alternate Hypothesis: There is Significant Correlation between Attrition and JobRole\n",
      "\n",
      "Correlation: 0.025808853490975857 P Value: 0.08658208267560671 \n",
      "\n",
      "P-Value >= 0.05 hence Null hypothesis is Accepted\n",
      "There is no Significant Correlation between Attrition and JobRole\n",
      "-----------------------------------------------------------------------------------------------------------------\n",
      "\n",
      "Null Hypothesis: There is no Significant Correlation between Attrition and MaritalStatus\n",
      "Alternate Hypothesis: There is Significant Correlation between Attrition and MaritalStatus\n",
      "\n",
      "Correlation: 0.162070234657015 P Value: 2.4449148399198393e-27 \n",
      "\n",
      "P-Value < 0.05 hence Null Hypothesis is rejected, Accepting Alternate Hypothesis\n",
      "There is Positive Correlation between Attrition and MaritalStatus\n",
      "-----------------------------------------------------------------------------------------------------------------\n",
      "\n",
      "Null Hypothesis: There is no Significant Correlation between Attrition and MonthlyIncome\n",
      "Alternate Hypothesis: There is Significant Correlation between Attrition and MonthlyIncome\n",
      "\n",
      "Correlation: -0.031176281698115007 P Value: 0.03842748490600132 \n",
      "\n",
      "P-Value < 0.05 hence Null Hypothesis is rejected, Accepting Alternate Hypothesis\n",
      "There is Negative Correlation between Attrition and MonthlyIncome\n",
      "-----------------------------------------------------------------------------------------------------------------\n",
      "\n",
      "Null Hypothesis: There is no Significant Correlation between Attrition and NumCompaniesWorked\n",
      "Alternate Hypothesis: There is Significant Correlation between Attrition and NumCompaniesWorked\n",
      "\n",
      "Correlation: 0.04150332971190174 P Value: 0.00584142424757884 \n",
      "\n",
      "P-Value < 0.05 hence Null Hypothesis is rejected, Accepting Alternate Hypothesis\n",
      "There is Positive Correlation between Attrition and NumCompaniesWorked\n",
      "-----------------------------------------------------------------------------------------------------------------\n",
      "\n",
      "Null Hypothesis: There is no Significant Correlation between Attrition and PercentSalaryHike\n",
      "Alternate Hypothesis: There is Significant Correlation between Attrition and PercentSalaryHike\n",
      "\n",
      "Correlation: 0.03253259489105349 P Value: 0.030743386433355353 \n",
      "\n",
      "P-Value < 0.05 hence Null Hypothesis is rejected, Accepting Alternate Hypothesis\n",
      "There is Positive Correlation between Attrition and PercentSalaryHike\n",
      "-----------------------------------------------------------------------------------------------------------------\n",
      "\n",
      "Null Hypothesis: There is no Significant Correlation between Attrition and StockOptionLevel\n",
      "Alternate Hypothesis: There is Significant Correlation between Attrition and StockOptionLevel\n",
      "\n",
      "Correlation: -0.006838852403261513 P Value: 0.6498072937475723 \n",
      "\n",
      "P-Value >= 0.05 hence Null hypothesis is Accepted\n",
      "There is no Significant Correlation between Attrition and StockOptionLevel\n",
      "-----------------------------------------------------------------------------------------------------------------\n",
      "\n",
      "Null Hypothesis: There is no Significant Correlation between Attrition and TotalWorkingYears\n",
      "Alternate Hypothesis: There is Significant Correlation between Attrition and TotalWorkingYears\n",
      "\n",
      "Correlation: -0.17023794049182428 P Value: 4.959687383334802e-30 \n",
      "\n",
      "P-Value < 0.05 hence Null Hypothesis is rejected, Accepting Alternate Hypothesis\n",
      "There is Negative Correlation between Attrition and TotalWorkingYears\n",
      "-----------------------------------------------------------------------------------------------------------------\n",
      "\n",
      "Null Hypothesis: There is no Significant Correlation between Attrition and TrainingTimesLastYear\n",
      "Alternate Hypothesis: There is Significant Correlation between Attrition and TrainingTimesLastYear\n",
      "\n",
      "Correlation: -0.049430576244255 P Value: 0.0010247061915365072 \n",
      "\n",
      "P-Value < 0.05 hence Null Hypothesis is rejected, Accepting Alternate Hypothesis\n",
      "There is Negative Correlation between Attrition and TrainingTimesLastYear\n",
      "-----------------------------------------------------------------------------------------------------------------\n",
      "\n",
      "Null Hypothesis: There is no Significant Correlation between Attrition and YearsAtCompany\n",
      "Alternate Hypothesis: There is Significant Correlation between Attrition and YearsAtCompany\n",
      "\n",
      "Correlation: -0.1343922139899772 P Value: 3.1638831224877484e-19 \n",
      "\n",
      "P-Value < 0.05 hence Null Hypothesis is rejected, Accepting Alternate Hypothesis\n",
      "There is Negative Correlation between Attrition and YearsAtCompany\n",
      "-----------------------------------------------------------------------------------------------------------------\n",
      "\n",
      "Null Hypothesis: There is no Significant Correlation between Attrition and YearsSinceLastPromotion\n",
      "Alternate Hypothesis: There is Significant Correlation between Attrition and YearsSinceLastPromotion\n",
      "\n",
      "Correlation: -0.03301877514258434 P Value: 0.028330336189396753 \n",
      "\n",
      "P-Value < 0.05 hence Null Hypothesis is rejected, Accepting Alternate Hypothesis\n",
      "There is Negative Correlation between Attrition and YearsSinceLastPromotion\n",
      "-----------------------------------------------------------------------------------------------------------------\n",
      "\n",
      "Null Hypothesis: There is no Significant Correlation between Attrition and YearsWithCurrManager\n",
      "Alternate Hypothesis: There is Significant Correlation between Attrition and YearsWithCurrManager\n",
      "\n",
      "Correlation: -0.15619931590162847 P Value: 1.7339322652896276e-25 \n",
      "\n",
      "P-Value < 0.05 hence Null Hypothesis is rejected, Accepting Alternate Hypothesis\n",
      "There is Negative Correlation between Attrition and YearsWithCurrManager\n",
      "-----------------------------------------------------------------------------------------------------------------\n"
     ]
    }
   ],
   "source": [
    "# Correlation & P - Value of relationship with Attrition and other features\n",
    "check('Attrition', 'Age', df.Age)\n",
    "check('Attrition', 'BusinessTravel', df.BusinessTravel)\n",
    "check('Attrition', 'DistanceFromHome', df.DistanceFromHome)\n",
    "check('Attrition', 'Education', df.Education)\n",
    "check('Attrition', 'EducationField', df.EducationField)\n",
    "check('Attrition', 'Gender', df.Gender)\n",
    "check('Attrition', 'JobLevel', df.JobLevel)\n",
    "check('Attrition', 'JobRole', df.JobRole)\n",
    "check('Attrition', 'MaritalStatus', df.MaritalStatus)\n",
    "check('Attrition', 'MonthlyIncome', df.MonthlyIncome)\n",
    "check('Attrition', 'NumCompaniesWorked', df.NumCompaniesWorked)\n",
    "check('Attrition', 'PercentSalaryHike', df.PercentSalaryHike)\n",
    "check('Attrition', 'StockOptionLevel', df.StockOptionLevel)\n",
    "check('Attrition', 'TotalWorkingYears', df.TotalWorkingYears)\n",
    "check('Attrition', 'TrainingTimesLastYear', df.TrainingTimesLastYear)\n",
    "check('Attrition', 'YearsAtCompany', df.YearsAtCompany)\n",
    "check('Attrition', 'YearsSinceLastPromotion', df.YearsSinceLastPromotion)\n",
    "check('Attrition', 'YearsWithCurrManager', df.YearsWithCurrManager)"
   ]
  },
  {
   "cell_type": "markdown",
   "metadata": {},
   "source": [
    "### From above calculations we can have some conclusion based on correlation & P value\n",
    "#### Features don't have relationship with Attrition : BusinessTravel, DistanceFromHome, Education, Gender, JobLevel, JobRole, StockOptionLevel\n",
    "#### Features have relationship with Attrition and have Positive Correlation: MaritalStatus, NumCompaniesWorked, PercentSalaryHike, \n",
    "#### Features have relationship with Attrition and have Negative Correlation: Age, EducationField, MonthlyIncome, TotalWorkingYears, TrainingTimesLastYear, YearsAtCompany, YearsSinceLastPromotion, YearsWithCurrManager"
   ]
  },
  {
   "cell_type": "markdown",
   "metadata": {},
   "source": [
    "# Statistical tests:\n",
    "## As we seen in distplots none of features Normally Distributed so we can perform only Non-Parametric tests.\n",
    "## Dependent variable is Attrition and that is Categorical so in Non-Parametric we can perform below Tests:\n",
    "### 1. Mann-Whitney Test - 1 Dependent categorical variable and other continuous varibles\n",
    "### 2. CHI Square test - Only for Categorical Variables\n",
    "\n",
    "\n",
    "\n",
    "## 1. Mann-Whitney Test:"
   ]
  },
  {
   "cell_type": "markdown",
   "metadata": {},
   "source": [
    "#### For Mann-Whitney Test we need to separate data as Attrition Yes & Attrition No"
   ]
  },
  {
   "cell_type": "code",
   "execution_count": 157,
   "metadata": {},
   "outputs": [],
   "source": [
    "# attrition = Yes and no seprate\n",
    "att_yes = df[df['Attrition']== 1]\n",
    "att_no = df[df['Attrition']== 0]"
   ]
  },
  {
   "cell_type": "code",
   "execution_count": 158,
   "metadata": {},
   "outputs": [
    {
     "data": {
      "text/html": [
       "<div>\n",
       "<style scoped>\n",
       "    .dataframe tbody tr th:only-of-type {\n",
       "        vertical-align: middle;\n",
       "    }\n",
       "\n",
       "    .dataframe tbody tr th {\n",
       "        vertical-align: top;\n",
       "    }\n",
       "\n",
       "    .dataframe thead th {\n",
       "        text-align: right;\n",
       "    }\n",
       "</style>\n",
       "<table border=\"1\" class=\"dataframe\">\n",
       "  <thead>\n",
       "    <tr style=\"text-align: right;\">\n",
       "      <th></th>\n",
       "      <th>Age</th>\n",
       "      <th>Attrition</th>\n",
       "      <th>BusinessTravel</th>\n",
       "      <th>Department</th>\n",
       "      <th>DistanceFromHome</th>\n",
       "      <th>Education</th>\n",
       "      <th>EducationField</th>\n",
       "      <th>Gender</th>\n",
       "      <th>JobLevel</th>\n",
       "      <th>JobRole</th>\n",
       "      <th>MaritalStatus</th>\n",
       "      <th>MonthlyIncome</th>\n",
       "      <th>NumCompaniesWorked</th>\n",
       "      <th>PercentSalaryHike</th>\n",
       "      <th>StockOptionLevel</th>\n",
       "      <th>TotalWorkingYears</th>\n",
       "      <th>TrainingTimesLastYear</th>\n",
       "      <th>YearsAtCompany</th>\n",
       "      <th>YearsSinceLastPromotion</th>\n",
       "      <th>YearsWithCurrManager</th>\n",
       "    </tr>\n",
       "  </thead>\n",
       "  <tbody>\n",
       "    <tr>\n",
       "      <th>1</th>\n",
       "      <td>31</td>\n",
       "      <td>1</td>\n",
       "      <td>1</td>\n",
       "      <td>1</td>\n",
       "      <td>10</td>\n",
       "      <td>1</td>\n",
       "      <td>1</td>\n",
       "      <td>0</td>\n",
       "      <td>1</td>\n",
       "      <td>6</td>\n",
       "      <td>2</td>\n",
       "      <td>41890</td>\n",
       "      <td>0.0</td>\n",
       "      <td>23</td>\n",
       "      <td>1</td>\n",
       "      <td>6.0</td>\n",
       "      <td>3</td>\n",
       "      <td>5</td>\n",
       "      <td>1</td>\n",
       "      <td>4</td>\n",
       "    </tr>\n",
       "    <tr>\n",
       "      <th>6</th>\n",
       "      <td>28</td>\n",
       "      <td>1</td>\n",
       "      <td>2</td>\n",
       "      <td>1</td>\n",
       "      <td>11</td>\n",
       "      <td>2</td>\n",
       "      <td>3</td>\n",
       "      <td>1</td>\n",
       "      <td>2</td>\n",
       "      <td>7</td>\n",
       "      <td>2</td>\n",
       "      <td>58130</td>\n",
       "      <td>2.0</td>\n",
       "      <td>20</td>\n",
       "      <td>1</td>\n",
       "      <td>5.0</td>\n",
       "      <td>2</td>\n",
       "      <td>0</td>\n",
       "      <td>0</td>\n",
       "      <td>0</td>\n",
       "    </tr>\n",
       "    <tr>\n",
       "      <th>13</th>\n",
       "      <td>47</td>\n",
       "      <td>1</td>\n",
       "      <td>0</td>\n",
       "      <td>1</td>\n",
       "      <td>1</td>\n",
       "      <td>1</td>\n",
       "      <td>3</td>\n",
       "      <td>1</td>\n",
       "      <td>1</td>\n",
       "      <td>6</td>\n",
       "      <td>1</td>\n",
       "      <td>57620</td>\n",
       "      <td>1.0</td>\n",
       "      <td>11</td>\n",
       "      <td>2</td>\n",
       "      <td>10.0</td>\n",
       "      <td>4</td>\n",
       "      <td>10</td>\n",
       "      <td>9</td>\n",
       "      <td>9</td>\n",
       "    </tr>\n",
       "    <tr>\n",
       "      <th>28</th>\n",
       "      <td>44</td>\n",
       "      <td>1</td>\n",
       "      <td>1</td>\n",
       "      <td>1</td>\n",
       "      <td>1</td>\n",
       "      <td>2</td>\n",
       "      <td>3</td>\n",
       "      <td>1</td>\n",
       "      <td>2</td>\n",
       "      <td>6</td>\n",
       "      <td>0</td>\n",
       "      <td>103330</td>\n",
       "      <td>3.0</td>\n",
       "      <td>14</td>\n",
       "      <td>1</td>\n",
       "      <td>19.0</td>\n",
       "      <td>2</td>\n",
       "      <td>1</td>\n",
       "      <td>0</td>\n",
       "      <td>0</td>\n",
       "    </tr>\n",
       "    <tr>\n",
       "      <th>30</th>\n",
       "      <td>26</td>\n",
       "      <td>1</td>\n",
       "      <td>2</td>\n",
       "      <td>1</td>\n",
       "      <td>4</td>\n",
       "      <td>3</td>\n",
       "      <td>3</td>\n",
       "      <td>1</td>\n",
       "      <td>3</td>\n",
       "      <td>6</td>\n",
       "      <td>0</td>\n",
       "      <td>68540</td>\n",
       "      <td>2.0</td>\n",
       "      <td>11</td>\n",
       "      <td>0</td>\n",
       "      <td>5.0</td>\n",
       "      <td>5</td>\n",
       "      <td>3</td>\n",
       "      <td>0</td>\n",
       "      <td>2</td>\n",
       "    </tr>\n",
       "  </tbody>\n",
       "</table>\n",
       "</div>"
      ],
      "text/plain": [
       "    Age  Attrition  BusinessTravel  Department  DistanceFromHome  Education  \\\n",
       "1    31          1               1           1                10          1   \n",
       "6    28          1               2           1                11          2   \n",
       "13   47          1               0           1                 1          1   \n",
       "28   44          1               1           1                 1          2   \n",
       "30   26          1               2           1                 4          3   \n",
       "\n",
       "    EducationField  Gender  JobLevel  JobRole  MaritalStatus  MonthlyIncome  \\\n",
       "1                1       0         1        6              2          41890   \n",
       "6                3       1         2        7              2          58130   \n",
       "13               3       1         1        6              1          57620   \n",
       "28               3       1         2        6              0         103330   \n",
       "30               3       1         3        6              0          68540   \n",
       "\n",
       "    NumCompaniesWorked  PercentSalaryHike  StockOptionLevel  \\\n",
       "1                  0.0                 23                 1   \n",
       "6                  2.0                 20                 1   \n",
       "13                 1.0                 11                 2   \n",
       "28                 3.0                 14                 1   \n",
       "30                 2.0                 11                 0   \n",
       "\n",
       "    TotalWorkingYears  TrainingTimesLastYear  YearsAtCompany  \\\n",
       "1                 6.0                      3               5   \n",
       "6                 5.0                      2               0   \n",
       "13               10.0                      4              10   \n",
       "28               19.0                      2               1   \n",
       "30                5.0                      5               3   \n",
       "\n",
       "    YearsSinceLastPromotion  YearsWithCurrManager  \n",
       "1                         1                     4  \n",
       "6                         0                     0  \n",
       "13                        9                     9  \n",
       "28                        0                     0  \n",
       "30                        0                     2  "
      ]
     },
     "execution_count": 158,
     "metadata": {},
     "output_type": "execute_result"
    }
   ],
   "source": [
    "att_yes.head()"
   ]
  },
  {
   "cell_type": "code",
   "execution_count": 159,
   "metadata": {},
   "outputs": [
    {
     "data": {
      "text/html": [
       "<div>\n",
       "<style scoped>\n",
       "    .dataframe tbody tr th:only-of-type {\n",
       "        vertical-align: middle;\n",
       "    }\n",
       "\n",
       "    .dataframe tbody tr th {\n",
       "        vertical-align: top;\n",
       "    }\n",
       "\n",
       "    .dataframe thead th {\n",
       "        text-align: right;\n",
       "    }\n",
       "</style>\n",
       "<table border=\"1\" class=\"dataframe\">\n",
       "  <thead>\n",
       "    <tr style=\"text-align: right;\">\n",
       "      <th></th>\n",
       "      <th>Age</th>\n",
       "      <th>Attrition</th>\n",
       "      <th>BusinessTravel</th>\n",
       "      <th>Department</th>\n",
       "      <th>DistanceFromHome</th>\n",
       "      <th>Education</th>\n",
       "      <th>EducationField</th>\n",
       "      <th>Gender</th>\n",
       "      <th>JobLevel</th>\n",
       "      <th>JobRole</th>\n",
       "      <th>MaritalStatus</th>\n",
       "      <th>MonthlyIncome</th>\n",
       "      <th>NumCompaniesWorked</th>\n",
       "      <th>PercentSalaryHike</th>\n",
       "      <th>StockOptionLevel</th>\n",
       "      <th>TotalWorkingYears</th>\n",
       "      <th>TrainingTimesLastYear</th>\n",
       "      <th>YearsAtCompany</th>\n",
       "      <th>YearsSinceLastPromotion</th>\n",
       "      <th>YearsWithCurrManager</th>\n",
       "    </tr>\n",
       "  </thead>\n",
       "  <tbody>\n",
       "    <tr>\n",
       "      <th>0</th>\n",
       "      <td>51</td>\n",
       "      <td>0</td>\n",
       "      <td>2</td>\n",
       "      <td>2</td>\n",
       "      <td>6</td>\n",
       "      <td>2</td>\n",
       "      <td>1</td>\n",
       "      <td>0</td>\n",
       "      <td>1</td>\n",
       "      <td>0</td>\n",
       "      <td>1</td>\n",
       "      <td>131160</td>\n",
       "      <td>1.0</td>\n",
       "      <td>11</td>\n",
       "      <td>0</td>\n",
       "      <td>1.0</td>\n",
       "      <td>6</td>\n",
       "      <td>1</td>\n",
       "      <td>0</td>\n",
       "      <td>0</td>\n",
       "    </tr>\n",
       "    <tr>\n",
       "      <th>2</th>\n",
       "      <td>32</td>\n",
       "      <td>0</td>\n",
       "      <td>1</td>\n",
       "      <td>1</td>\n",
       "      <td>17</td>\n",
       "      <td>4</td>\n",
       "      <td>4</td>\n",
       "      <td>1</td>\n",
       "      <td>4</td>\n",
       "      <td>7</td>\n",
       "      <td>1</td>\n",
       "      <td>193280</td>\n",
       "      <td>1.0</td>\n",
       "      <td>15</td>\n",
       "      <td>3</td>\n",
       "      <td>5.0</td>\n",
       "      <td>2</td>\n",
       "      <td>5</td>\n",
       "      <td>0</td>\n",
       "      <td>3</td>\n",
       "    </tr>\n",
       "    <tr>\n",
       "      <th>3</th>\n",
       "      <td>38</td>\n",
       "      <td>0</td>\n",
       "      <td>0</td>\n",
       "      <td>1</td>\n",
       "      <td>2</td>\n",
       "      <td>5</td>\n",
       "      <td>1</td>\n",
       "      <td>1</td>\n",
       "      <td>3</td>\n",
       "      <td>1</td>\n",
       "      <td>1</td>\n",
       "      <td>83210</td>\n",
       "      <td>3.0</td>\n",
       "      <td>11</td>\n",
       "      <td>3</td>\n",
       "      <td>13.0</td>\n",
       "      <td>5</td>\n",
       "      <td>8</td>\n",
       "      <td>7</td>\n",
       "      <td>5</td>\n",
       "    </tr>\n",
       "    <tr>\n",
       "      <th>4</th>\n",
       "      <td>32</td>\n",
       "      <td>0</td>\n",
       "      <td>2</td>\n",
       "      <td>1</td>\n",
       "      <td>10</td>\n",
       "      <td>1</td>\n",
       "      <td>3</td>\n",
       "      <td>1</td>\n",
       "      <td>1</td>\n",
       "      <td>7</td>\n",
       "      <td>2</td>\n",
       "      <td>23420</td>\n",
       "      <td>4.0</td>\n",
       "      <td>12</td>\n",
       "      <td>2</td>\n",
       "      <td>9.0</td>\n",
       "      <td>2</td>\n",
       "      <td>6</td>\n",
       "      <td>0</td>\n",
       "      <td>4</td>\n",
       "    </tr>\n",
       "    <tr>\n",
       "      <th>5</th>\n",
       "      <td>46</td>\n",
       "      <td>0</td>\n",
       "      <td>2</td>\n",
       "      <td>1</td>\n",
       "      <td>8</td>\n",
       "      <td>3</td>\n",
       "      <td>1</td>\n",
       "      <td>0</td>\n",
       "      <td>4</td>\n",
       "      <td>5</td>\n",
       "      <td>1</td>\n",
       "      <td>40710</td>\n",
       "      <td>3.0</td>\n",
       "      <td>13</td>\n",
       "      <td>0</td>\n",
       "      <td>28.0</td>\n",
       "      <td>5</td>\n",
       "      <td>7</td>\n",
       "      <td>7</td>\n",
       "      <td>7</td>\n",
       "    </tr>\n",
       "  </tbody>\n",
       "</table>\n",
       "</div>"
      ],
      "text/plain": [
       "   Age  Attrition  BusinessTravel  Department  DistanceFromHome  Education  \\\n",
       "0   51          0               2           2                 6          2   \n",
       "2   32          0               1           1                17          4   \n",
       "3   38          0               0           1                 2          5   \n",
       "4   32          0               2           1                10          1   \n",
       "5   46          0               2           1                 8          3   \n",
       "\n",
       "   EducationField  Gender  JobLevel  JobRole  MaritalStatus  MonthlyIncome  \\\n",
       "0               1       0         1        0              1         131160   \n",
       "2               4       1         4        7              1         193280   \n",
       "3               1       1         3        1              1          83210   \n",
       "4               3       1         1        7              2          23420   \n",
       "5               1       0         4        5              1          40710   \n",
       "\n",
       "   NumCompaniesWorked  PercentSalaryHike  StockOptionLevel  TotalWorkingYears  \\\n",
       "0                 1.0                 11                 0                1.0   \n",
       "2                 1.0                 15                 3                5.0   \n",
       "3                 3.0                 11                 3               13.0   \n",
       "4                 4.0                 12                 2                9.0   \n",
       "5                 3.0                 13                 0               28.0   \n",
       "\n",
       "   TrainingTimesLastYear  YearsAtCompany  YearsSinceLastPromotion  \\\n",
       "0                      6               1                        0   \n",
       "2                      2               5                        0   \n",
       "3                      5               8                        7   \n",
       "4                      2               6                        0   \n",
       "5                      5               7                        7   \n",
       "\n",
       "   YearsWithCurrManager  \n",
       "0                     0  \n",
       "2                     3  \n",
       "3                     5  \n",
       "4                     4  \n",
       "5                     7  "
      ]
     },
     "execution_count": 159,
     "metadata": {},
     "output_type": "execute_result"
    }
   ],
   "source": [
    "att_no.head()"
   ]
  },
  {
   "cell_type": "markdown",
   "metadata": {},
   "source": [
    "##### Continuous Variables we should check with Attrition as per above correlation results : Age, MonthlyIncome, TotalWorkingYears, TrainingTimesLastYear, YearsAtCompany, YearsSinceLastPromotion, YearsWithCurrManager,  NumCompaniesWorked, PercentSalaryHike"
   ]
  },
  {
   "cell_type": "code",
   "execution_count": 160,
   "metadata": {},
   "outputs": [],
   "source": [
    "# defining function for ManWhitney tests\n",
    "def manwhitney(stats, p, b):\n",
    "    print('\\nH0 = There is no significant difference between Attrition_yes with',b, 'and Attrition_No with', b)\n",
    "    print('H1 = There is significant difference between Attrition_yes with',b, 'and Attrition_No with', b, '\\n')\n",
    "    print(stats, 'P Value:', p,'\\n')\n",
    "    if p < 0.05:\n",
    "        print('P-Value < 0.05 hence H0 rejected, Accepting H1 Hypothesis')\n",
    "    else:\n",
    "        print(\"P-Value >= 0.05 hence H0 Accepted\")\n",
    "    print('-----------------------------------------------------------------------------------------------------------------')"
   ]
  },
  {
   "cell_type": "code",
   "execution_count": 161,
   "metadata": {},
   "outputs": [],
   "source": [
    "# importing scipy module\n",
    "from scipy.stats import mannwhitneyu"
   ]
  },
  {
   "cell_type": "code",
   "execution_count": 166,
   "metadata": {},
   "outputs": [
    {
     "name": "stdout",
     "output_type": "stream",
     "text": [
      "\n",
      "H0 = There is no significant difference between Attrition_yes with Age and Attrition_No with Age\n",
      "H1 = There is significant difference between Attrition_yes with Age and Attrition_No with Age \n",
      "\n",
      "961731.0 P Value: 2.9951588479067175e-30 \n",
      "\n",
      "P-Value < 0.05 hence H0 rejected, Accepting H1 Hypothesis\n",
      "-----------------------------------------------------------------------------------------------------------------\n",
      "\n",
      "H0 = There is no significant difference between Attrition_yes with MonthlyIncome and Attrition_No with MonthlyIncome\n",
      "H1 = There is significant difference between Attrition_yes with MonthlyIncome and Attrition_No with MonthlyIncome \n",
      "\n",
      "1264900.5 P Value: 0.053577283839938566 \n",
      "\n",
      "P-Value >= 0.05 hence H0 Accepted\n",
      "-----------------------------------------------------------------------------------------------------------------\n",
      "\n",
      "H0 = There is no significant difference between Attrition_yes with NumCompaniesWorked and Attrition_No with NumCompaniesWorked\n",
      "H1 = There is significant difference between Attrition_yes with NumCompaniesWorked and Attrition_No with NumCompaniesWorked \n",
      "\n",
      "1259144.0 P Value: 0.03266173775282211 \n",
      "\n",
      "P-Value < 0.05 hence H0 rejected, Accepting H1 Hypothesis\n",
      "-----------------------------------------------------------------------------------------------------------------\n",
      "\n",
      "H0 = There is no significant difference between Attrition_yes with PercentSalaryHike and Attrition_No with PercentSalaryHike\n",
      "H1 = There is significant difference between Attrition_yes with PercentSalaryHike and Attrition_No with PercentSalaryHike \n",
      "\n",
      "1250640.0 P Value: 0.018660129917539733 \n",
      "\n",
      "P-Value < 0.05 hence H0 rejected, Accepting H1 Hypothesis\n",
      "-----------------------------------------------------------------------------------------------------------------\n",
      "\n",
      "H0 = There is no significant difference between Attrition_yes with TotalWorkingYears and Attrition_No with TotalWorkingYears\n",
      "H1 = There is significant difference between Attrition_yes with TotalWorkingYears and Attrition_No with TotalWorkingYears \n",
      "\n",
      "907502.5 P Value: 1.0203529765342384e-39 \n",
      "\n",
      "P-Value < 0.05 hence H0 rejected, Accepting H1 Hypothesis\n",
      "-----------------------------------------------------------------------------------------------------------------\n",
      "\n",
      "H0 = There is no significant difference between Attrition_yes with TrainingTimesLastYear and Attrition_No with TrainingTimesLastYear\n",
      "H1 = There is significant difference between Attrition_yes with TrainingTimesLastYear and Attrition_No with TrainingTimesLastYear \n",
      "\n",
      "1238940.0 P Value: 0.005167954938699059 \n",
      "\n",
      "P-Value < 0.05 hence H0 rejected, Accepting H1 Hypothesis\n",
      "-----------------------------------------------------------------------------------------------------------------\n",
      "\n",
      "H0 = There is no significant difference between Attrition_yes with YearsAtCompany and Attrition_No with YearsAtCompany\n",
      "H1 = There is significant difference between Attrition_yes with YearsAtCompany and Attrition_No with YearsAtCompany \n",
      "\n",
      "923238.0 P Value: 6.047598261692858e-37 \n",
      "\n",
      "P-Value < 0.05 hence H0 rejected, Accepting H1 Hypothesis\n",
      "-----------------------------------------------------------------------------------------------------------------\n",
      "\n",
      "H0 = There is no significant difference between Attrition_yes with YearsSinceLastPromotion and Attrition_No with YearsSinceLastPromotion\n",
      "H1 = There is significant difference between Attrition_yes with YearsSinceLastPromotion and Attrition_No with YearsSinceLastPromotion \n",
      "\n",
      "1209366.0 P Value: 0.0002021180346719736 \n",
      "\n",
      "P-Value < 0.05 hence H0 rejected, Accepting H1 Hypothesis\n",
      "-----------------------------------------------------------------------------------------------------------------\n",
      "\n",
      "H0 = There is no significant difference between Attrition_yes with YearsWithCurrManager and Attrition_No with YearsWithCurrManager\n",
      "H1 = There is significant difference between Attrition_yes with YearsWithCurrManager and Attrition_No with YearsWithCurrManager \n",
      "\n",
      "957253.5 P Value: 1.2365483142169853e-31 \n",
      "\n",
      "P-Value < 0.05 hence H0 rejected, Accepting H1 Hypothesis\n",
      "-----------------------------------------------------------------------------------------------------------------\n"
     ]
    }
   ],
   "source": [
    "stats, p = mannwhitneyu(att_yes.Age, att_no.Age)\n",
    "manwhitney(stats, p, 'Age')\n",
    "stats, p = mannwhitneyu(att_yes.MonthlyIncome, att_no.MonthlyIncome)\n",
    "manwhitney(stats, p, 'MonthlyIncome')\n",
    "stats, p = mannwhitneyu(att_yes.NumCompaniesWorked, att_no.NumCompaniesWorked)\n",
    "manwhitney(stats, p, 'NumCompaniesWorked')\n",
    "stats, p = mannwhitneyu(att_yes.PercentSalaryHike, att_no.PercentSalaryHike)\n",
    "manwhitney(stats, p, 'PercentSalaryHike')\n",
    "stats, p = mannwhitneyu(att_yes.TotalWorkingYears, att_no.TotalWorkingYears)\n",
    "manwhitney(stats, p, 'TotalWorkingYears')\n",
    "stats, p = mannwhitneyu(att_yes.TrainingTimesLastYear, att_no.TrainingTimesLastYear)\n",
    "manwhitney(stats, p, 'TrainingTimesLastYear')\n",
    "stats, p = mannwhitneyu(att_yes.YearsAtCompany, att_no.YearsAtCompany)\n",
    "manwhitney(stats, p, 'YearsAtCompany')\n",
    "stats, p = mannwhitneyu(att_yes.YearsSinceLastPromotion, att_no.YearsSinceLastPromotion)\n",
    "manwhitney(stats, p, 'YearsSinceLastPromotion')\n",
    "stats, p = mannwhitneyu(att_yes.YearsWithCurrManager, att_no.YearsWithCurrManager)\n",
    "manwhitney(stats, p, 'YearsWithCurrManager')\n"
   ]
  },
  {
   "cell_type": "markdown",
   "metadata": {},
   "source": [
    "### From above Mann-Whitney Tests we can have conclusion\n",
    "#### There is no significant difference between Attrition Yes Monthly Income & Attrition No Monthly Income\n",
    "#### There is significant difference between Attrition Yes & Attrition No with following Variables: Age, TotalWorkingYears, TrainingTimesLastYear, YearsAtCompany, YearsSinceLastPromotion, YearsWithCurrManager, NumCompaniesWorked, PercentSalaryHike"
   ]
  },
  {
   "cell_type": "markdown",
   "metadata": {},
   "source": [
    "## 2. CHI Square Test:\n",
    "#### For CHI Square test we are checking dependency of Categorical Variables with Attrition\n",
    "\n",
    "#### Categorical Variables we should check based on correlation results: BusinessTravel , EducationField , Gender ,  Department , JobRole , MaritalStatus , JobLevel , StockOptionLevel"
   ]
  },
  {
   "cell_type": "code",
   "execution_count": 167,
   "metadata": {},
   "outputs": [],
   "source": [
    "# defining function for CHI Square tests\n",
    "def chi2(stats, p, b):\n",
    "    print('\\nHo= There is no dependency betweem Attrition and', b)\n",
    "    print('H1= There is dependency betweem Attrition and', b, '\\n')\n",
    "    print(chitable,'\\n')\n",
    "    print(stats, 'P Value:', p,'\\n')\n",
    "    if p < 0.05:\n",
    "        print('P-Value < 0.05 hence H0 rejected, Accepting H1 Hypothesis')\n",
    "    else:\n",
    "        print(\"P-Value >= 0.05 hence H0 Accepted\")\n",
    "    print('-----------------------------------------------------------------------------------------------------------------')"
   ]
  },
  {
   "cell_type": "code",
   "execution_count": 168,
   "metadata": {},
   "outputs": [],
   "source": [
    "# impoerting scipy module\n",
    "from scipy.stats import chi2_contingency"
   ]
  },
  {
   "cell_type": "code",
   "execution_count": 178,
   "metadata": {},
   "outputs": [
    {
     "name": "stdout",
     "output_type": "stream",
     "text": [
      "\n",
      "Ho= There is no dependency betweem Attrition and BusinessTravel\n",
      "H1= There is dependency betweem Attrition and BusinessTravel \n",
      "\n",
      "BusinessTravel    0    1     2\n",
      "Attrition                     \n",
      "0               414  624  2661\n",
      "1                36  207   468 \n",
      "\n",
      "72.54724105696552 P Value: 1.764276972983189e-16 \n",
      "\n",
      "P-Value < 0.05 hence H0 rejected, Accepting H1 Hypothesis\n",
      "-----------------------------------------------------------------------------------------------------------------\n",
      "\n",
      "Ho= There is no dependency betweem Attrition and EducationField\n",
      "H1= There is dependency betweem Attrition and EducationField \n",
      "\n",
      "EducationField   0     1    2     3    4    5\n",
      "Attrition                                    \n",
      "0               48  1515  402  1167  216  351\n",
      "1               33   303   75   225   30   45 \n",
      "\n",
      "46.194921001730584 P Value: 8.288917469574179e-09 \n",
      "\n",
      "P-Value < 0.05 hence H0 rejected, Accepting H1 Hypothesis\n",
      "-----------------------------------------------------------------------------------------------------------------\n",
      "\n",
      "Ho= There is no dependency betweem Attrition and Gender\n",
      "H1= There is dependency betweem Attrition and Gender \n",
      "\n",
      "Gender        0     1\n",
      "Attrition            \n",
      "0          1494  2205\n",
      "1           270   441 \n",
      "\n",
      "1.349904410246582 P Value: 0.24529482862926827 \n",
      "\n",
      "P-Value >= 0.05 hence H0 Accepted\n",
      "-----------------------------------------------------------------------------------------------------------------\n",
      "\n",
      "Ho= There is no dependency betweem Attrition and Department\n",
      "H1= There is dependency betweem Attrition and Department \n",
      "\n",
      "Department    0     1     2\n",
      "Attrition                  \n",
      "0           132  2430  1137\n",
      "1            57   453   201 \n",
      "\n",
      "29.090274924488266 P Value: 4.820888218170406e-07 \n",
      "\n",
      "P-Value < 0.05 hence H0 rejected, Accepting H1 Hypothesis\n",
      "-----------------------------------------------------------------------------------------------------------------\n",
      "\n",
      "Ho= There is no dependency betweem Attrition and JobRole\n",
      "H1= There is dependency betweem Attrition and JobRole \n",
      "\n",
      "JobRole      0    1    2    3    4    5    6    7    8\n",
      "Attrition                                             \n",
      "0          336  135  651  264  387  183  717  813  213\n",
      "1           57   21  126   42   48   57  159  165   36 \n",
      "\n",
      "25.116313674604072 P Value: 0.001485544744815264 \n",
      "\n",
      "P-Value < 0.05 hence H0 rejected, Accepting H1 Hypothesis\n",
      "-----------------------------------------------------------------------------------------------------------------\n",
      "\n",
      "Ho= There is no dependency betweem Attrition and MaritalStatus\n",
      "H1= There is dependency betweem Attrition and MaritalStatus \n",
      "\n",
      "MaritalStatus    0     1     2\n",
      "Attrition                     \n",
      "0              882  1767  1050\n",
      "1               99   252   360 \n",
      "\n",
      "138.49102962254608 P Value: 8.45385940605786e-31 \n",
      "\n",
      "P-Value < 0.05 hence H0 rejected, Accepting H1 Hypothesis\n",
      "-----------------------------------------------------------------------------------------------------------------\n",
      "\n",
      "Ho= There is no dependency betweem Attrition and JobLevel\n",
      "H1= There is dependency betweem Attrition and JobLevel \n",
      "\n",
      "JobLevel      1     2    3    4    5\n",
      "Attrition                           \n",
      "0          1377  1317  558  267  180\n",
      "1           252   285   96   51   27 \n",
      "\n",
      "6.2691759264759925 P Value: 0.1799276801337184 \n",
      "\n",
      "P-Value >= 0.05 hence H0 Accepted\n",
      "-----------------------------------------------------------------------------------------------------------------\n",
      "\n",
      "Ho= There is no dependency betweem Attrition and StockOptionLevel\n",
      "H1= There is dependency betweem Attrition and StockOptionLevel \n",
      "\n",
      "StockOptionLevel     0     1    2    3\n",
      "Attrition                             \n",
      "0                 1575  1518  390  216\n",
      "1                  318   270   84   39 \n",
      "\n",
      "3.046265305068262 P Value: 0.38454683657380506 \n",
      "\n",
      "P-Value >= 0.05 hence H0 Accepted\n",
      "-----------------------------------------------------------------------------------------------------------------\n"
     ]
    }
   ],
   "source": [
    "chitable = pd.crosstab(df.Attrition, df.BusinessTravel)\n",
    "stats, p, dof, expected = chi2_contingency(chitable)\n",
    "chi2(stats, p, 'BusinessTravel')\n",
    "chitable = pd.crosstab(df.Attrition, df.EducationField)\n",
    "stats, p, dof, expected = chi2_contingency(chitable)\n",
    "chi2(stats, p, 'EducationField')\n",
    "chitable = pd.crosstab(df.Attrition, df.Gender)\n",
    "stats, p, dof, expected = chi2_contingency(chitable)\n",
    "chi2(stats, p, 'Gender')\n",
    "chitable = pd.crosstab(df.Attrition, df.Department)\n",
    "stats, p, dof, expected = chi2_contingency(chitable)\n",
    "chi2(stats, p, 'Department')\n",
    "chitable = pd.crosstab(df.Attrition, df.JobRole)\n",
    "stats, p, dof, expected = chi2_contingency(chitable)\n",
    "chi2(stats, p, 'JobRole')\n",
    "chitable = pd.crosstab(df.Attrition, df.MaritalStatus)\n",
    "stats, p, dof, expected = chi2_contingency(chitable)\n",
    "chi2(stats, p, 'MaritalStatus')\n",
    "chitable = pd.crosstab(df.Attrition, df.JobLevel)\n",
    "stats, p, dof, expected = chi2_contingency(chitable)\n",
    "chi2(stats, p, 'JobLevel')\n",
    "chitable = pd.crosstab(df.Attrition, df.StockOptionLevel)\n",
    "stats, p, dof, expected = chi2_contingency(chitable)\n",
    "chi2(stats, p, 'StockOptionLevel')"
   ]
  },
  {
   "cell_type": "markdown",
   "metadata": {},
   "source": [
    "### From above performed CHI Square tests we can have following conclusions\n",
    "#### Variables have dependency with Attrition are: BusinessTravel , EducationField, Department , JobRole , MaritalStatus\n",
    "#### Variables don't have dependency with Attrition are: Gender, JobLevel , StockOptionLevel"
   ]
  }
 ],
 "metadata": {
  "kernelspec": {
   "display_name": "Python 3",
   "language": "python",
   "name": "python3"
  },
  "language_info": {
   "codemirror_mode": {
    "name": "ipython",
    "version": 3
   },
   "file_extension": ".py",
   "mimetype": "text/x-python",
   "name": "python",
   "nbconvert_exporter": "python",
   "pygments_lexer": "ipython3",
   "version": "3.7.6"
  }
 },
 "nbformat": 4,
 "nbformat_minor": 4
}
