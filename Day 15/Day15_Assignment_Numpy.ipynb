{
 "cells": [
  {
   "cell_type": "markdown",
   "metadata": {},
   "source": [
    "# 1. Create a 3x3x3 array with random values "
   ]
  },
  {
   "cell_type": "code",
   "execution_count": 7,
   "metadata": {},
   "outputs": [
    {
     "data": {
      "text/plain": [
       "array([[[0.50223522, 0.40751215, 0.132599  ],\n",
       "        [0.77167708, 0.57533227, 0.03284604],\n",
       "        [0.17509104, 0.48432695, 0.40993065]],\n",
       "\n",
       "       [[0.76902802, 0.60034327, 0.63544772],\n",
       "        [0.2677126 , 0.22461009, 0.77129968],\n",
       "        [0.96027348, 0.7770651 , 0.70610092]],\n",
       "\n",
       "       [[0.65013947, 0.52514871, 0.91294525],\n",
       "        [0.90429648, 0.11843579, 0.83297527],\n",
       "        [0.51614845, 0.47826466, 0.91129543]]])"
      ]
     },
     "execution_count": 7,
     "metadata": {},
     "output_type": "execute_result"
    }
   ],
   "source": [
    "import numpy as np\n",
    "np.random.random((3,3,3))"
   ]
  },
  {
   "cell_type": "markdown",
   "metadata": {},
   "source": [
    "# 2.Create a 5x5 matrix with values 1,2,3,4 just below the diagonal"
   ]
  },
  {
   "cell_type": "code",
   "execution_count": 13,
   "metadata": {},
   "outputs": [
    {
     "data": {
      "text/plain": [
       "array([[0, 0, 0, 0, 0],\n",
       "       [1, 0, 0, 0, 0],\n",
       "       [0, 2, 0, 0, 0],\n",
       "       [0, 0, 3, 0, 0],\n",
       "       [0, 0, 0, 4, 0]])"
      ]
     },
     "execution_count": 13,
     "metadata": {},
     "output_type": "execute_result"
    }
   ],
   "source": [
    "np.diag(np.arange(1,5), k=-1)"
   ]
  },
  {
   "cell_type": "markdown",
   "metadata": {},
   "source": [
    "# 3.Create a 8x8 matrix and fill it with a checkerboard pattern"
   ]
  },
  {
   "cell_type": "code",
   "execution_count": 37,
   "metadata": {},
   "outputs": [
    {
     "data": {
      "text/plain": [
       "array([[1, 0, 1, 0, 1, 0, 1, 0],\n",
       "       [0, 1, 0, 1, 0, 1, 0, 1],\n",
       "       [1, 0, 1, 0, 1, 0, 1, 0],\n",
       "       [0, 1, 0, 1, 0, 1, 0, 1],\n",
       "       [1, 0, 1, 0, 1, 0, 1, 0],\n",
       "       [0, 1, 0, 1, 0, 1, 0, 1],\n",
       "       [1, 0, 1, 0, 1, 0, 1, 0],\n",
       "       [0, 1, 0, 1, 0, 1, 0, 1]])"
      ]
     },
     "execution_count": 37,
     "metadata": {},
     "output_type": "execute_result"
    }
   ],
   "source": [
    "a = np.zeros((8,8), int)\n",
    "a[0::2, 0::2] = 1 # Start:Stop:Step # Row, Column\n",
    "a[1::2, 1::2] = 1\n",
    "a"
   ]
  },
  {
   "cell_type": "markdown",
   "metadata": {},
   "source": [
    "# 4. Normalize a 5x5 random matrix"
   ]
  },
  {
   "cell_type": "code",
   "execution_count": 41,
   "metadata": {},
   "outputs": [
    {
     "data": {
      "text/plain": [
       "array([[0.14814439, 0.73711078, 0.74526486, 0.62921491, 0.45992502],\n",
       "       [0.        , 0.53632039, 0.41906356, 0.42911932, 0.41727014],\n",
       "       [0.1017589 , 0.02164546, 0.85573762, 0.63840934, 0.11401443],\n",
       "       [0.31627345, 0.54071102, 0.35807116, 1.        , 0.02491034],\n",
       "       [0.7575929 , 0.46921535, 0.95307047, 0.55247446, 0.3101846 ]])"
      ]
     },
     "execution_count": 41,
     "metadata": {},
     "output_type": "execute_result"
    }
   ],
   "source": [
    "b = np.random.random((5,5))\n",
    "bmax, bmin = b.max(), b.min()\n",
    "b = (b - bmin) / (bmax - bmin)\n",
    "b"
   ]
  },
  {
   "cell_type": "markdown",
   "metadata": {},
   "source": [
    "# 5.  How to find common values between two arrays?"
   ]
  },
  {
   "cell_type": "code",
   "execution_count": 45,
   "metadata": {},
   "outputs": [
    {
     "data": {
      "text/plain": [
       "array([4, 6, 7])"
      ]
     },
     "execution_count": 45,
     "metadata": {},
     "output_type": "execute_result"
    }
   ],
   "source": [
    "arr1 = np.array([1, 2, 3, 4, 5, 6, 7])\n",
    "arr2 = np.array([9, 10, 4, 34, 6, 7, 8])\n",
    "np.intersect1d(arr1, arr2) # not work for 2d,3d"
   ]
  },
  {
   "cell_type": "markdown",
   "metadata": {},
   "source": [
    "# 6.How to get the dates of yesterday, today and tomorrow?"
   ]
  },
  {
   "cell_type": "code",
   "execution_count": 65,
   "metadata": {},
   "outputs": [
    {
     "name": "stdout",
     "output_type": "stream",
     "text": [
      "Yesterday: 2020-07-26\n",
      "Today: 2020-07-27\n",
      "Tomorrow: 2020-07-28\n"
     ]
    }
   ],
   "source": [
    "Yesterday = np.datetime64('today', 'D') - np.timedelta64(1, 'D')\n",
    "print(\"Yesterday:\", Yesterday)\n",
    "Today = np.datetime64('today', 'D')\n",
    "print(\"Today:\", Today)\n",
    "Tomorrow = np.datetime64('today', 'D') + np.timedelta64(1, 'D')\n",
    "print(\"Tomorrow:\", Tomorrow)"
   ]
  },
  {
   "cell_type": "markdown",
   "metadata": {},
   "source": [
    "# 7. Consider two random array A and B, check if they are equal"
   ]
  },
  {
   "cell_type": "code",
   "execution_count": 71,
   "metadata": {},
   "outputs": [
    {
     "name": "stdout",
     "output_type": "stream",
     "text": [
      "[[0 0]\n",
      " [1 1]\n",
      " [1 0]]\n",
      "[[1 0]\n",
      " [0 1]\n",
      " [0 0]]\n",
      "False\n"
     ]
    }
   ],
   "source": [
    "c = np.random.randint(0,2,6).reshape(3,2)\n",
    "print(c)\n",
    "d = np.random.randint(0,2,6).reshape(3,2)\n",
    "print(d)\n",
    "print(np.allclose(c,d))\n"
   ]
  },
  {
   "cell_type": "markdown",
   "metadata": {},
   "source": [
    "# 8.Create random vector of size 10 and replace the maximum value by 0 "
   ]
  },
  {
   "cell_type": "code",
   "execution_count": 107,
   "metadata": {},
   "outputs": [
    {
     "name": "stdout",
     "output_type": "stream",
     "text": [
      "[55 44 79 37 47 84 37 98 32 20]\n",
      "[55 44 79 37 47 84 37  0 32 20]\n"
     ]
    }
   ],
   "source": [
    "e = np.random.randint(0,100,10)\n",
    "print(e)\n",
    "e[e.argmax()] = 0\n",
    "print(e)\n"
   ]
  },
  {
   "cell_type": "markdown",
   "metadata": {},
   "source": [
    "# 9. How to print all the values of an array?"
   ]
  },
  {
   "cell_type": "code",
   "execution_count": 109,
   "metadata": {},
   "outputs": [
    {
     "name": "stdout",
     "output_type": "stream",
     "text": [
      "[ 0  1  2  3  4  5  6  7  8  9 10 11 12 13 14 15 16 17 18 19 20 21 22 23\n",
      " 24 25 26 27 28 29 30 31 32 33 34 35 36 37 38 39 40 41 42 43 44 45 46 47\n",
      " 48 49 50 51 52 53 54 55 56 57 58 59 60 61 62 63 64 65 66 67 68 69 70 71\n",
      " 72 73 74 75 76 77 78 79 80 81 82 83 84 85 86 87 88 89 90 91 92 93 94 95\n",
      " 96 97 98 99]\n"
     ]
    }
   ],
   "source": [
    "np.set_printoptions(threshold=np.inf)\n",
    "x = np.arange(100)\n",
    "print(x)"
   ]
  },
  {
   "cell_type": "markdown",
   "metadata": {},
   "source": [
    "# 10.Subtract the mean of each row of a matrix"
   ]
  },
  {
   "cell_type": "code",
   "execution_count": 135,
   "metadata": {},
   "outputs": [
    {
     "name": "stdout",
     "output_type": "stream",
     "text": [
      "[[0.5488135  0.71518937 0.60276338 0.54488318 0.4236548 ]\n",
      " [0.64589411 0.43758721 0.891773   0.96366276 0.38344152]\n",
      " [0.79172504 0.52889492 0.56804456 0.92559664 0.07103606]\n",
      " [0.0871293  0.0202184  0.83261985 0.77815675 0.87001215]\n",
      " [0.97861834 0.79915856 0.46147936 0.78052918 0.11827443]\n",
      " [0.63992102 0.14335329 0.94466892 0.52184832 0.41466194]\n",
      " [0.26455561 0.77423369 0.45615033 0.56843395 0.0187898 ]\n",
      " [0.6176355  0.61209572 0.616934   0.94374808 0.6818203 ]\n",
      " [0.3595079  0.43703195 0.6976312  0.06022547 0.66676672]\n",
      " [0.67063787 0.21038256 0.1289263  0.31542835 0.36371077]]\n",
      "\n",
      "Subtract the mean of each row: \n",
      "[[-0.01824734  0.14812852  0.03570253 -0.02217766 -0.14340605]\n",
      " [-0.01857761 -0.22688451  0.22730128  0.29919104 -0.2810302 ]\n",
      " [ 0.21466559 -0.04816452 -0.00901488  0.3485372  -0.50602338]\n",
      " [-0.43049799 -0.49740889  0.31499256  0.26052946  0.35238486]\n",
      " [ 0.35100637  0.17154659 -0.16613261  0.1529172  -0.50933755]\n",
      " [ 0.10703032 -0.38953741  0.41177822 -0.01104238 -0.11822876]\n",
      " [-0.15187706  0.35780101  0.03971766  0.15200127 -0.39764288]\n",
      " [-0.07681122 -0.082351   -0.07751272  0.24930136 -0.01262642]\n",
      " [-0.08472475 -0.00720069  0.25339855 -0.38400718  0.22253407]\n",
      " [ 0.3328207  -0.12743461 -0.20889087 -0.02238882  0.0258936 ]]\n"
     ]
    }
   ],
   "source": [
    "np.random.seed(0)\n",
    "p = np.random.rand(10,5)\n",
    "print(p)\n",
    "mean_row = p.mean(axis=1, keepdims=True) # mean of each row\n",
    "print(\"\\nSubtract the mean of each row: \")\n",
    "print(p-mean_row)\n"
   ]
  },
  {
   "cell_type": "markdown",
   "metadata": {},
   "source": [
    "# 11.Consider a given vector, how to add 1 to each element indexed by a second vector (be careful with repeated indices)? "
   ]
  },
  {
   "cell_type": "code",
   "execution_count": 162,
   "metadata": {},
   "outputs": [
    {
     "name": "stdout",
     "output_type": "stream",
     "text": [
      "[1. 1. 1. 1. 1. 1. 1. 1. 1. 1.]\n",
      "[5 0 3 3 7 9 3 5 2 4 7 6 8 8 1 6 7 7 8 1]\n",
      "[2. 3. 2. 4. 2. 3. 3. 5. 4. 2.]\n"
     ]
    }
   ],
   "source": [
    "v = np.ones(10)\n",
    "print(v)\n",
    "np.random.seed(0)\n",
    "i = np.random.randint(0,len(v),20)\n",
    "print(i)\n",
    "v += np.bincount(i, minlength=len(v))\n",
    "print(v)\n",
    "# i = 0 to 9 so occurance of 0 in i = 1 + v i.e. 1 =2, occ of 1 in 1 = 2 + 1(v) = 3, occ of 2 in i = 1 + 1(v) = 2 "
   ]
  },
  {
   "cell_type": "markdown",
   "metadata": {},
   "source": [
    "# 12.How to get the diagonal of a dot product?"
   ]
  },
  {
   "cell_type": "code",
   "execution_count": 167,
   "metadata": {},
   "outputs": [
    {
     "name": "stdout",
     "output_type": "stream",
     "text": [
      "[[3 0 5]\n",
      " [0 1 2]\n",
      " [4 2 0]]\n",
      "[[3 2 0]\n",
      " [7 5 9]\n",
      " [0 2 7]]\n"
     ]
    },
    {
     "data": {
      "text/plain": [
       "array([ 9,  9, 18])"
      ]
     },
     "execution_count": 167,
     "metadata": {},
     "output_type": "execute_result"
    }
   ],
   "source": [
    "d = np.random.randint(0,10,(3,3))\n",
    "print(d)\n",
    "f = np.random.randint(0,10,(3,3))\n",
    "print(f)\n",
    "\n",
    "# np.diag(np.dot(d,f))\n",
    "# np.sum(d * f.T, axis=1)\n",
    "np.einsum('ij,ji->i', d, f) # faster"
   ]
  },
  {
   "cell_type": "markdown",
   "metadata": {},
   "source": [
    "# 13.How to find the most frequent value in an array?"
   ]
  },
  {
   "cell_type": "code",
   "execution_count": 169,
   "metadata": {},
   "outputs": [
    {
     "name": "stdout",
     "output_type": "stream",
     "text": [
      "[9 6 5 3 1 8 0 4 9 6 5 7 8 8 9 2 8 6 6 9 1 6 8 8 3]\n",
      "Most Frequent Value: 8\n"
     ]
    }
   ],
   "source": [
    "g = np.random.randint(0,10, 25)\n",
    "print(g)\n",
    "print(\"Most Frequent Value:\", np.bincount(g).argmax())"
   ]
  },
  {
   "cell_type": "markdown",
   "metadata": {},
   "source": [
    "# 14.How to get the n largest values of an array"
   ]
  },
  {
   "cell_type": "code",
   "execution_count": 177,
   "metadata": {},
   "outputs": [
    {
     "name": "stdout",
     "output_type": "stream",
     "text": [
      "[196 151 140 160  31 115 143 157 134 180  41  12  19 133 186 192  72 175\n",
      "  69 182 138 189 127 129  52 150 168  13  35  92  95  56  70 103  88  74\n",
      " 142 193 123 162 104  46  96 122  39  90  50 149  73  48 101 137  85  49\n",
      "  76 174 124 165 159  36 187  57  99 106 111  18   8 135 128 166   4 105\n",
      "  51 120  40   9 113  66  47  77 178 185 163  15   1  79  38  94  63 126\n",
      "  59 181  91 130 112 100 132 184  44  93   0 195 144  30 197 107 109  78\n",
      " 171 169 156   2 147 198  75 188 146 183  53   3 110  64  89  26  27 191\n",
      " 177 145 170  28 164 152  61  60 114 141 199 173 176  87 179  97  33  16\n",
      "  98  84   7 108  37 154 116 131 121  25  83 118  54 153 161  42  58  71\n",
      " 158 139  29  62  10  82 172   5 136  17  86  24 167  45  68  21  22  65\n",
      "  32  34  23 148 102 155 194 117  80 190  14 119  20  67  43 125  55  81\n",
      "  11   6]\n",
      "[199 198 196 197 195]\n"
     ]
    }
   ],
   "source": [
    "h = np.arange(200)\n",
    "np.random.shuffle(h)\n",
    "print(h)\n",
    "n = 5 # 5 largest values\n",
    "\n",
    "# print(n, \"largest values:\", h[np.argsort(h)[-n:]])\n",
    "print(h[np.argpartition(-h,n)[:n]]) # fast"
   ]
  },
  {
   "cell_type": "markdown",
   "metadata": {},
   "source": [
    "# 15.How to create a record array from a regular array?"
   ]
  },
  {
   "cell_type": "code",
   "execution_count": 181,
   "metadata": {},
   "outputs": [
    {
     "data": {
      "text/plain": [
       "rec.array([(b'Numpy', 2.5, 3), (b'Python', 3.6, 2)],\n",
       "          dtype=[('col1', 'S8'), ('col2', '<f8'), ('col3', '<i8')])"
      ]
     },
     "execution_count": 181,
     "metadata": {},
     "output_type": "execute_result"
    }
   ],
   "source": [
    "j = np.array([('Numpy', 2.5, 3), ('Python', 3.6, 2)])\n",
    "k = np.core.records.fromarrays(j.T, names= 'col1, col2, col3', formats= 'S8, f8, i8')\n",
    "k"
   ]
  }
 ],
 "metadata": {
  "kernelspec": {
   "display_name": "Python 3",
   "language": "python",
   "name": "python3"
  }
 },
 "nbformat": 4,
 "nbformat_minor": 2
}
