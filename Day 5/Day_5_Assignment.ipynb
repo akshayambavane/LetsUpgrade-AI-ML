{
  "nbformat": 4,
  "nbformat_minor": 0,
  "metadata": {
    "colab": {
      "name": "Day 5 Assignment.ipynb",
      "provenance": []
    },
    "kernelspec": {
      "name": "python3",
      "display_name": "Python 3"
    }
  },
  "cells": [
    {
      "cell_type": "markdown",
      "metadata": {
        "id": "Toi0RkaXwXPg",
        "colab_type": "text"
      },
      "source": [
        "# 1. Find the first 20 non-even prime natural numbers"
      ]
    },
    {
      "cell_type": "code",
      "metadata": {
        "id": "uqzX8TlE78ZL",
        "colab_type": "code",
        "colab": {
          "base_uri": "https://localhost:8080/",
          "height": 34
        },
        "outputId": "013cb85b-4fa5-4c2f-e2a1-42875f3bd533"
      },
      "source": [
        "# we have not given the range to find prime numbers so need to use while loop\n",
        "# In most of the programming languages (C/C++, Java, etc), the use of else statement has been restricted with the if conditional statements. \n",
        "# But Python also allows us to use the else condition with for loops. \n",
        "# The else block just after for/while is executed only when the loop is NOT terminated by a break statement.\n",
        "prime_number = 0\n",
        "num = 0\n",
        "while prime_number < 20:\n",
        "  if num > 1: # all prime numbers are greater than 1\n",
        "    for i in range(2, num):\n",
        "      if (num % i) == 0:\n",
        "        break\n",
        "    else:\n",
        "      print(num, end=\" \")\n",
        "      prime_number += 1\n",
        "  num += 1"
      ],
      "execution_count": null,
      "outputs": [
        {
          "output_type": "stream",
          "text": [
            "2 3 5 7 11 13 17 19 23 29 31 37 41 43 47 53 59 61 67 71 "
          ],
          "name": "stdout"
        }
      ]
    },
    {
      "cell_type": "markdown",
      "metadata": {
        "id": "7x5dcY-RSTTP",
        "colab_type": "text"
      },
      "source": [
        "#  2. Implement 15 functions of string."
      ]
    },
    {
      "cell_type": "code",
      "metadata": {
        "id": "Rslg7tzrLI94",
        "colab_type": "code",
        "colab": {
          "base_uri": "https://localhost:8080/",
          "height": 272
        },
        "outputId": "467d9348-29f9-4853-bd76-ac0518b50a34"
      },
      "source": [
        "#1. strip()\n",
        "print(' Akshay Ambavane '.strip()) # Strips all whitespace\n",
        "\n",
        "#2.  split()\n",
        "print(\"Hello! from Akshay\".split()) # split every word as a list\n",
        "\n",
        "#3.  replace()\n",
        "print(\"Hello! from Akshay\".replace('Akshay', 'Lets Upgrade')) # replace string\n",
        "\n",
        "#4. startswith()\n",
        "print(\"I will become a data scientist\".startswith('I')) # returns bool value if it is true\n",
        "\n",
        "#5. endwith()\n",
        "print(\"I will become a data scientist\".endswith('t')) # returns bool value if it is true\n",
        "\n",
        "#6. index()\n",
        "print(\"Akshay Ambavane\".index(\"a\")) # returns letter at specified index\n",
        "\n",
        "#7. upper()\n",
        "print(\"Akshay Ambavane\".upper()) # cpitalize all letters from string\n",
        "\n",
        "#8. lower()\n",
        "print(\"Akshay Ambavane\".lower()) # all letters in lower\n",
        "\n",
        "#9. capitalize()\n",
        "print(\"akshay ambavane\".capitalize()) # capital 1st letter of each word\n",
        "\n",
        "#10. find()\n",
        "print(\"Akshay Ambavane\".find(\"h\")) # find first occurance of string\n",
        "\n",
        "#11. count()\n",
        "print(\"Akshay Ambavane\".count(\"a\")) # count the substring into string\n",
        "\n",
        "#12. isalnum()\n",
        "print(\"Akshay1Ambavane\".isalnum()) # check string is alphanumeric or not\n",
        "\n",
        "#13. isalpha()\n",
        "print(\"Akshay Ambavane\".isalpha()) # check string has only alphabeticals - space is not alphabetical\n",
        "\n",
        "#14. isdigit()\n",
        "print(\"`123456\".isdigit()) # check string is only of digits\n",
        "\n",
        "#15.  join()\n",
        "print(\" \".join(\"Akshay Ambavane\")) # join string with specified thing\n"
      ],
      "execution_count": null,
      "outputs": [
        {
          "output_type": "stream",
          "text": [
            "Akshay Ambavane\n",
            "['Hello!', 'from', 'Akshay']\n",
            "Hello! from Lets Upgrade\n",
            "True\n",
            "True\n",
            "4\n",
            "AKSHAY AMBAVANE\n",
            "akshay ambavane\n",
            "Akshay ambavane\n",
            "3\n",
            "3\n",
            "True\n",
            "False\n",
            "False\n",
            "A k s h a y   A m b a v a n e\n"
          ],
          "name": "stdout"
        }
      ]
    },
    {
      "cell_type": "markdown",
      "metadata": {
        "id": "Zz3806FCSR8_",
        "colab_type": "text"
      },
      "source": [
        "# 3. Check if the given string is a Palindrome or Anagram or None of them Display the message accordingly to the user.\n"
      ]
    },
    {
      "cell_type": "code",
      "metadata": {
        "id": "tI6-p4MdRh47",
        "colab_type": "code",
        "colab": {
          "base_uri": "https://localhost:8080/",
          "height": 85
        },
        "outputId": "20d5dc7c-69da-4437-b6bf-1722d5b822ad"
      },
      "source": [
        "# check Palindrome & Anagram\n",
        "\n",
        "def check_pal(s1):\n",
        "  if s1 == s1[::-1]:\n",
        "    print(\"Your string is Palindrome\")\n",
        "  else:\n",
        "    print(\"Your string is not a Plaindrome\")\n",
        "\n",
        "def check_ang(s1, s2):\n",
        "  if (sorted(s1) == sorted(s2)):\n",
        "    print(\"Your string\", s2, \"is anagram of\", s1)\n",
        "  else:\n",
        "    print(\"Your string\", s2, \"is not anagram of\", s1)\n",
        "\n",
        "s1 = input(\"Enter a string to check Palindrome or not:\")\n",
        "s2 = input(\"Enter a string to check your string is Anagram of string1:\")\n",
        "\n",
        "if (s1 != s1[::-1]) and (sorted(s1) != sorted(s2)):\n",
        "  print(\"Your string is nor Plaindrome neither Anagram\")\n",
        "else:\n",
        "  check_pal(s1)\n",
        "  check_ang(s1, s2)\n"
      ],
      "execution_count": null,
      "outputs": [
        {
          "output_type": "stream",
          "text": [
            "Enter a string to check Palindrome or not:madam\n",
            "Enter a string to check your string is Anagram of string1:mamad\n",
            "Your string is Palindrome\n",
            "Your string mamad is anagram of madam\n"
          ],
          "name": "stdout"
        }
      ]
    },
    {
      "cell_type": "markdown",
      "metadata": {
        "id": "xW4evHo2ZWii",
        "colab_type": "text"
      },
      "source": [
        "# 4. Write a Python's user defined function that removes all the additional characters from the string and converts it finally to lower case using built-in lower()"
      ]
    },
    {
      "cell_type": "code",
      "metadata": {
        "id": "BE1TlDVaaF9V",
        "colab_type": "code",
        "colab": {
          "base_uri": "https://localhost:8080/",
          "height": 34
        },
        "outputId": "a0e34630-1a0d-403e-b4e4-5dee00c17bbb"
      },
      "source": [
        "def remove_chars(s):\n",
        "  for i in s:\n",
        "    if str(i).isalnum():\n",
        "      print(str(i).lower(), end='')\n",
        "\n",
        "s = \"DS. Akshay1234Ambavane@Letsupgrade.com\"\n",
        "remove_chars(s)"
      ],
      "execution_count": null,
      "outputs": [
        {
          "output_type": "stream",
          "text": [
            "ds akshayambavaneletsupgradecom\n"
          ],
          "name": "stdout"
        }
      ]
    }
  ]
}